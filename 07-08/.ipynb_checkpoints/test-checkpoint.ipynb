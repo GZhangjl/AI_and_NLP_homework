{
 "cells": [
  {
   "cell_type": "code",
   "execution_count": 46,
   "metadata": {},
   "outputs": [],
   "source": [
    "import pandas as pd\n",
    "from sklearn.externals import joblib\n",
    "count_vec = joblib.load('C:/Users/zhang/Desktop/AI_and_NLP_homework/07-08/models/count_vec.model')\n",
    "tfidf_transformer = joblib.load('C:/Users/zhang/Desktop/AI_and_NLP_homework/07-08/models/tfidf_transformer.model')\n",
    "clf_nb = joblib.load('C:/Users/zhang/Desktop/AI_and_NLP_homework/07-08/models/clf_nb.model')"
   ]
  },
  {
   "cell_type": "code",
   "execution_count": 48,
   "metadata": {},
   "outputs": [],
   "source": [
    "source = pd.read_csv(\"C:/Users/zhang/Desktop/AI_and_NLP_homework/07-08/sqlResult_1558435.csv\")"
   ]
  },
  {
   "cell_type": "code",
   "execution_count": 91,
   "metadata": {},
   "outputs": [],
   "source": [
    "source = source[source['source'] != '新华社'].dropna()"
   ]
  },
  {
   "cell_type": "code",
   "execution_count": 92,
   "metadata": {},
   "outputs": [],
   "source": [
    "l = len(source)"
   ]
  },
  {
   "cell_type": "code",
   "execution_count": 93,
   "metadata": {},
   "outputs": [],
   "source": [
    "contents = source['content'].tolist()"
   ]
  },
  {
   "cell_type": "code",
   "execution_count": 98,
   "metadata": {},
   "outputs": [],
   "source": [
    "for i in range(l):\n",
    "    content = contents[i]\n",
    "    s = []\n",
    "    for w in jieba.cut(content):\n",
    "        if (w in stop_words) or (w == '\\\\') or (w == 'n'):\n",
    "            continue\n",
    "        s.append(w.strip())\n",
    "    contents[i] = ' '.join(s)"
   ]
  },
  {
   "cell_type": "code",
   "execution_count": 99,
   "metadata": {},
   "outputs": [],
   "source": [
    "occ_vec = count_vec.transform(contents)"
   ]
  },
  {
   "cell_type": "code",
   "execution_count": 100,
   "metadata": {},
   "outputs": [],
   "source": [
    "freq_vec = tfidf_transformer.transform(occ_vec)"
   ]
  },
  {
   "cell_type": "code",
   "execution_count": 103,
   "metadata": {},
   "outputs": [],
   "source": [
    "res = clf_nb.predict(freq_vec)"
   ]
  },
  {
   "cell_type": "code",
   "execution_count": 105,
   "metadata": {},
   "outputs": [
    {
     "data": {
      "text/plain": [
       "0.8707539353769677"
      ]
     },
     "execution_count": 105,
     "metadata": {},
     "output_type": "execute_result"
    }
   ],
   "source": [
    "sum(res)/l"
   ]
  },
  {
   "cell_type": "code",
   "execution_count": null,
   "metadata": {},
   "outputs": [],
   "source": []
  }
 ],
 "metadata": {
  "kernelspec": {
   "display_name": "Python 3",
   "language": "python",
   "name": "python3"
  },
  "language_info": {
   "codemirror_mode": {
    "name": "ipython",
    "version": 3
   },
   "file_extension": ".py",
   "mimetype": "text/x-python",
   "name": "python",
   "nbconvert_exporter": "python",
   "pygments_lexer": "ipython3",
   "version": "3.7.3"
  }
 },
 "nbformat": 4,
 "nbformat_minor": 2
}
