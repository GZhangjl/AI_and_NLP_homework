{
 "cells": [
  {
   "cell_type": "code",
   "execution_count": 1,
   "metadata": {},
   "outputs": [],
   "source": [
    "import requests"
   ]
  },
  {
   "cell_type": "code",
   "execution_count": 2,
   "metadata": {},
   "outputs": [],
   "source": [
    "headers = {\"User-Agent\":\"Mozilla/5.0 (Windows NT 10.0;Win64;x64) AppleWebKit/537.36 (KHTML,like Gecko) Chrome/75.0.3770.100 Safari/537.36\"}\n",
    "r = requests.get('https://baike.baidu.com/item/北京地铁/408485', headers=headers)"
   ]
  },
  {
   "cell_type": "code",
   "execution_count": 3,
   "metadata": {},
   "outputs": [],
   "source": [
    "r.encoding = 'utf8'\n",
    "content = r.text"
   ]
  },
  {
   "cell_type": "code",
   "execution_count": 4,
   "metadata": {},
   "outputs": [
    {
     "data": {
      "text/plain": [
       "str"
      ]
     },
     "execution_count": 4,
     "metadata": {},
     "output_type": "execute_result"
    }
   ],
   "source": [
    "type(content)"
   ]
  },
  {
   "cell_type": "code",
   "execution_count": 5,
   "metadata": {},
   "outputs": [],
   "source": [
    "from bs4 import BeautifulSoup"
   ]
  },
  {
   "cell_type": "code",
   "execution_count": 6,
   "metadata": {},
   "outputs": [],
   "source": [
    "soup = BeautifulSoup(content, 'html.parser')"
   ]
  },
  {
   "cell_type": "code",
   "execution_count": 7,
   "metadata": {},
   "outputs": [
    {
     "data": {
      "text/plain": [
       "<tr><td valign=\"top\" width=\"198\"><a href=\"/item/%E5%8C%97%E4%BA%AC%E5%9C%B0%E9%93%811%E5%8F%B7%E7%BA%BF\" target=\"_blank\">北京地铁1号线</a></td><td align=\"left\" valign=\"top\" width=\"198\">DKZ4 SFM04</td><td valign=\"top\" width=\"198\">6节B型</td></tr>"
      ]
     },
     "execution_count": 7,
     "metadata": {},
     "output_type": "execute_result"
    }
   ],
   "source": [
    "soup.find_all('table')[4].find_all('tr')[1:-1][0]"
   ]
  },
  {
   "cell_type": "code",
   "execution_count": 8,
   "metadata": {},
   "outputs": [
    {
     "name": "stdout",
     "output_type": "stream",
     "text": [
      "https://baike.baidu.com/item/%E5%8C%97%E4%BA%AC%E5%9C%B0%E9%93%811%E5%8F%B7%E7%BA%BF 北京地铁1号线\n",
      "https://baike.baidu.com/item/%E5%8C%97%E4%BA%AC%E5%9C%B0%E9%93%812%E5%8F%B7%E7%BA%BF 北京地铁2号线\n",
      "https://baike.baidu.com/item/%E5%8C%97%E4%BA%AC%E5%9C%B0%E9%93%814%E5%8F%B7%E7%BA%BF 北京地铁4号线\n",
      "https://baike.baidu.com/item/%E5%8C%97%E4%BA%AC%E5%9C%B0%E9%93%815%E5%8F%B7%E7%BA%BF 北京地铁5号线\n",
      "https://baike.baidu.com/item/%E5%8C%97%E4%BA%AC%E5%9C%B0%E9%93%816%E5%8F%B7%E7%BA%BF 北京地铁6号线\n",
      "https://baike.baidu.com/item/%E5%8C%97%E4%BA%AC%E5%9C%B0%E9%93%817%E5%8F%B7%E7%BA%BF 北京地铁7号线\n",
      "https://baike.baidu.com/item/%E5%8C%97%E4%BA%AC%E5%9C%B0%E9%93%818%E5%8F%B7%E7%BA%BF 北京地铁8号线\n",
      "https://baike.baidu.com/item/%E5%8C%97%E4%BA%AC%E5%9C%B0%E9%93%819%E5%8F%B7%E7%BA%BF 北京地铁9号线\n",
      "https://baike.baidu.com/item/%E5%8C%97%E4%BA%AC%E5%9C%B0%E9%93%8110%E5%8F%B7%E7%BA%BF 北京地铁10号线\n",
      "https://baike.baidu.com/item/%E5%8C%97%E4%BA%AC%E5%9C%B0%E9%93%8113%E5%8F%B7%E7%BA%BF 北京地铁13号线\n",
      "https://baike.baidu.com/item/%E5%8C%97%E4%BA%AC%E5%9C%B0%E9%93%8114%E5%8F%B7%E7%BA%BF 北京地铁14号线\n",
      "https://baike.baidu.com/item/%E5%8C%97%E4%BA%AC%E5%9C%B0%E9%93%8115%E5%8F%B7%E7%BA%BF 北京地铁15号线\n",
      "https://baike.baidu.com/item/%E5%8C%97%E4%BA%AC%E5%9C%B0%E9%93%8116%E5%8F%B7%E7%BA%BF 北京地铁16号线\n",
      "https://baike.baidu.com/item/%E5%8C%97%E4%BA%AC%E5%9C%B0%E9%93%81%E6%98%8C%E5%B9%B3%E7%BA%BF 北京地铁昌平线\n",
      "https://baike.baidu.com/item/%E5%8C%97%E4%BA%AC%E5%9C%B0%E9%93%81%E6%88%BF%E5%B1%B1%E7%BA%BF 北京地铁房山线\n",
      "https://baike.baidu.com/item/%E5%8C%97%E4%BA%AC%E5%9C%B0%E9%93%81%E4%BA%A6%E5%BA%84%E7%BA%BF 北京地铁亦庄线\n",
      "https://baike.baidu.com/item/%E5%8C%97%E4%BA%AC%E5%9C%B0%E9%93%81%E7%87%95%E6%88%BF%E7%BA%BF 北京地铁燕房线\n",
      "https://baike.baidu.com/item/%E5%8C%97%E4%BA%AC%E5%9C%B0%E9%93%81%E6%9C%BA%E5%9C%BA%E7%BA%BF 北京地铁机场线\n"
     ]
    }
   ],
   "source": [
    "urls_map = {}\n",
    "for line in soup.find_all('table')[4].find_all('tr')[1:-1]:\n",
    "    line_url = line.a['href']\n",
    "    line_url = 'https://baike.baidu.com' + line_url\n",
    "    line_name = line.a.contents\n",
    "    print(line_url, line_name[0])\n",
    "    urls_map[line_name[0]] = line_url"
   ]
  },
  {
   "cell_type": "code",
   "execution_count": 9,
   "metadata": {},
   "outputs": [
    {
     "data": {
      "text/plain": [
       "{'北京地铁1号线': 'https://baike.baidu.com/item/%E5%8C%97%E4%BA%AC%E5%9C%B0%E9%93%811%E5%8F%B7%E7%BA%BF',\n",
       " '北京地铁2号线': 'https://baike.baidu.com/item/%E5%8C%97%E4%BA%AC%E5%9C%B0%E9%93%812%E5%8F%B7%E7%BA%BF',\n",
       " '北京地铁4号线': 'https://baike.baidu.com/item/%E5%8C%97%E4%BA%AC%E5%9C%B0%E9%93%814%E5%8F%B7%E7%BA%BF',\n",
       " '北京地铁5号线': 'https://baike.baidu.com/item/%E5%8C%97%E4%BA%AC%E5%9C%B0%E9%93%815%E5%8F%B7%E7%BA%BF',\n",
       " '北京地铁6号线': 'https://baike.baidu.com/item/%E5%8C%97%E4%BA%AC%E5%9C%B0%E9%93%816%E5%8F%B7%E7%BA%BF',\n",
       " '北京地铁7号线': 'https://baike.baidu.com/item/%E5%8C%97%E4%BA%AC%E5%9C%B0%E9%93%817%E5%8F%B7%E7%BA%BF',\n",
       " '北京地铁8号线': 'https://baike.baidu.com/item/%E5%8C%97%E4%BA%AC%E5%9C%B0%E9%93%818%E5%8F%B7%E7%BA%BF',\n",
       " '北京地铁9号线': 'https://baike.baidu.com/item/%E5%8C%97%E4%BA%AC%E5%9C%B0%E9%93%819%E5%8F%B7%E7%BA%BF',\n",
       " '北京地铁10号线': 'https://baike.baidu.com/item/%E5%8C%97%E4%BA%AC%E5%9C%B0%E9%93%8110%E5%8F%B7%E7%BA%BF',\n",
       " '北京地铁13号线': 'https://baike.baidu.com/item/%E5%8C%97%E4%BA%AC%E5%9C%B0%E9%93%8113%E5%8F%B7%E7%BA%BF',\n",
       " '北京地铁14号线': 'https://baike.baidu.com/item/%E5%8C%97%E4%BA%AC%E5%9C%B0%E9%93%8114%E5%8F%B7%E7%BA%BF',\n",
       " '北京地铁15号线': 'https://baike.baidu.com/item/%E5%8C%97%E4%BA%AC%E5%9C%B0%E9%93%8115%E5%8F%B7%E7%BA%BF',\n",
       " '北京地铁16号线': 'https://baike.baidu.com/item/%E5%8C%97%E4%BA%AC%E5%9C%B0%E9%93%8116%E5%8F%B7%E7%BA%BF',\n",
       " '北京地铁昌平线': 'https://baike.baidu.com/item/%E5%8C%97%E4%BA%AC%E5%9C%B0%E9%93%81%E6%98%8C%E5%B9%B3%E7%BA%BF',\n",
       " '北京地铁房山线': 'https://baike.baidu.com/item/%E5%8C%97%E4%BA%AC%E5%9C%B0%E9%93%81%E6%88%BF%E5%B1%B1%E7%BA%BF',\n",
       " '北京地铁亦庄线': 'https://baike.baidu.com/item/%E5%8C%97%E4%BA%AC%E5%9C%B0%E9%93%81%E4%BA%A6%E5%BA%84%E7%BA%BF',\n",
       " '北京地铁燕房线': 'https://baike.baidu.com/item/%E5%8C%97%E4%BA%AC%E5%9C%B0%E9%93%81%E7%87%95%E6%88%BF%E7%BA%BF',\n",
       " '北京地铁机场线': 'https://baike.baidu.com/item/%E5%8C%97%E4%BA%AC%E5%9C%B0%E9%93%81%E6%9C%BA%E5%9C%BA%E7%BA%BF'}"
      ]
     },
     "execution_count": 9,
     "metadata": {},
     "output_type": "execute_result"
    }
   ],
   "source": [
    "urls_map"
   ]
  },
  {
   "cell_type": "code",
   "execution_count": 10,
   "metadata": {},
   "outputs": [],
   "source": [
    "headers = {\"User-Agent\":\"Mozilla/5.0 (Windows NT 10.0;Win64;x64) AppleWebKit/537.36 (KHTML,like Gecko) Chrome/75.0.3770.100 Safari/537.36\"}\n",
    "r1 = requests.get('https://baike.baidu.com/item/%E5%8C%97%E4%BA%AC%E5%9C%B0%E9%93%811%E5%8F%B7%E7%BA%BF', headers=headers)"
   ]
  },
  {
   "cell_type": "code",
   "execution_count": 11,
   "metadata": {},
   "outputs": [],
   "source": [
    "r1.encoding = 'utf8'"
   ]
  },
  {
   "cell_type": "code",
   "execution_count": 12,
   "metadata": {},
   "outputs": [],
   "source": [
    "soup1 = BeautifulSoup(r1.text, 'html.parser')"
   ]
  },
  {
   "cell_type": "code",
   "execution_count": 13,
   "metadata": {},
   "outputs": [],
   "source": [
    "import re\n",
    "rc = re.compile('<a href=\"#(\\d+_\\d+)\">车站列表</a>')\n",
    "\n",
    "# soup1.find_all(attrs={\"class\": \"catalog-list column-4\"})\n",
    "\n",
    "for s in soup1.find_all(class_=\"catalog-list\")[0].find_all('a'):\n",
    "    if s.string == '车站列表':\n",
    "        anchor = rc.match(str(s))[1]"
   ]
  },
  {
   "cell_type": "code",
   "execution_count": 14,
   "metadata": {},
   "outputs": [],
   "source": [
    "siblings = soup1.find(attrs={\"name\":anchor}).parent.next_siblings"
   ]
  },
  {
   "cell_type": "code",
   "execution_count": 15,
   "metadata": {},
   "outputs": [],
   "source": [
    "while (True):\n",
    "    sibling = next(siblings)\n",
    "    if sibling == '\\n':\n",
    "        continue\n",
    "    if sibling.find_all('tr'):\n",
    "        t = sibling.find_all('tr')\n",
    "        break"
   ]
  },
  {
   "cell_type": "code",
   "execution_count": 16,
   "metadata": {},
   "outputs": [
    {
     "data": {
      "text/plain": [
       "'<tr><tdalign=\"left\"valign=\"top\"width=\"14\"><divclass=\"para\"label-module=\"para\">54#</div></td><tdcolspan=\"2\"rowspan=\"1\"width=\"50\"><ahref=\"/item/%E9%BB%91%E7%9F%B3%E5%A4%B4%E7%AB%99\"target=\"_blank\">黑石头站</a></td><tdrowspan=\"15\"width=\"40\"><divclass=\"para\"label-module=\"para\"><adata-lemmaid=\"16343847\"href=\"/item/%E5%8C%97%E4%BA%AC%E5%9C%B0%E9%93%81%E4%B8%80%E6%9C%9F%E5%B7%A5%E7%A8%8B/16343847\"target=\"_blank\">北京地铁一期工程</a></div></td><tdalign=\"center\"colspan=\"3\"rowspan=\"2\"valign=\"middle\"width=\"180\"><divclass=\"para\"label-module=\"para\">军备车站，无开放计划</div></td><tdalign=\"center\"colspan=\"1\"rowspan=\"2\"valign=\"middle\"width=\"93\"><divclass=\"para\"label-module=\"para\">无</div></td><tdcolspan=\"1\"width=\"93\"></td><tdalign=\"center\"colspan=\"1\"rowspan=\"8\"valign=\"middle\"width=\"85\"></td></tr>'"
      ]
     },
     "execution_count": 16,
     "metadata": {},
     "output_type": "execute_result"
    }
   ],
   "source": [
    "''.join(str(t[1]).split())"
   ]
  },
  {
   "cell_type": "code",
   "execution_count": 17,
   "metadata": {},
   "outputs": [
    {
     "name": "stdout",
     "output_type": "stream",
     "text": [
      "黑石头站\n",
      "高井站\n",
      "福寿岭站\n",
      "苹果园站\n",
      "古城站\n",
      "衙门口站\n",
      "八角游乐园站\n",
      "八宝山站\n",
      "玉泉路站\n",
      "五棵松站\n",
      "万寿路站\n",
      "公主坟站\n",
      "军事博物馆站\n",
      "木樨地站\n",
      "南礼士路站\n",
      "（规划中，可能与金融街站\n",
      "西单站\n",
      "天安门西站\n",
      "天安门东站\n",
      "王府井站\n",
      "东单站\n",
      "建国门站\n",
      "永安里站\n",
      "国贸站\n",
      "大望路站\n",
      "四惠站\n",
      "四惠东站\n",
      "高碑店站\n",
      "传媒大学站\n",
      "双桥站\n",
      "管庄站\n",
      "八里桥站\n",
      "通州北苑站\n",
      "果园站\n",
      "九棵树站\n",
      "梨园站\n",
      "临河里站\n",
      "土桥站\n",
      "花庄站\n",
      "环球度假区站\n"
     ]
    }
   ],
   "source": [
    "r = re.compile('.+>(.+站)<.+')\n",
    "for i in t:\n",
    "    if r.match(''.join(str(i).split())):\n",
    "        print(r.match(''.join(str(i).split()))[1])"
   ]
  },
  {
   "cell_type": "code",
   "execution_count": 18,
   "metadata": {},
   "outputs": [],
   "source": [
    "r = re.compile('.+>(.+站)<.+')\n",
    "st = []\n",
    "for i in t:\n",
    "    if r.match(''.join(str(i).split())):\n",
    "        st.append(r.match(''.join(str(i).split()))[1])"
   ]
  },
  {
   "cell_type": "code",
   "execution_count": 19,
   "metadata": {},
   "outputs": [
    {
     "data": {
      "text/plain": [
       "40"
      ]
     },
     "execution_count": 19,
     "metadata": {},
     "output_type": "execute_result"
    }
   ],
   "source": [
    "len(st)"
   ]
  },
  {
   "cell_type": "code",
   "execution_count": 20,
   "metadata": {},
   "outputs": [
    {
     "data": {
      "text/plain": [
       "42"
      ]
     },
     "execution_count": 20,
     "metadata": {},
     "output_type": "execute_result"
    }
   ],
   "source": [
    "len(t)"
   ]
  },
  {
   "cell_type": "code",
   "execution_count": 21,
   "metadata": {},
   "outputs": [],
   "source": [
    "metro_map = {}\n",
    "l_name, l_url = list(urls_map.items())[0]\n",
    "headers = {\"User-Agent\":\"Mozilla/5.0 (Windows NT 10.0;Win64;x64) AppleWebKit/537.36 (KHTML,like Gecko) Chrome/75.0.3770.100 Safari/537.36\"}\n",
    "r1 = requests.get(l_url, headers=headers)\n",
    "r1.encoding = 'utf8'\n",
    "soup1 = BeautifulSoup(r1.text, 'html.parser')\n",
    "\n",
    "import re\n",
    "rc = re.compile('<a href=\"#(\\d+_\\d+)\">车站列表</a>')\n",
    "\n",
    "# soup1.find_all(attrs={\"class\": \"catalog-list column-4\"})\n",
    "\n",
    "for s in soup1.find_all(class_=\"catalog-list\")[0].find_all('a'):\n",
    "    if s.string == '车站列表':\n",
    "        anchor = rc.match(str(s))[1]\n",
    "\n",
    "siblings = soup1.find(attrs={\"name\":anchor}).parent.next_siblings\n",
    "\n",
    "while (True):\n",
    "    sibling = next(siblings)\n",
    "    if sibling == '\\n':\n",
    "        continue\n",
    "    if sibling.find_all('tr'):\n",
    "        t = sibling.find_all('tr')\n",
    "        break\n",
    "        \n",
    "r1 = re.compile('.+?>(.+?站)<.+')\n",
    "r2 = re.compile('.+>(.+站)')\n",
    "stations = []\n",
    "for i in t:\n",
    "    res = r1.match(''.join(str(i).split('\\n')))\n",
    "    if res:\n",
    "        stations.append(r2.match(res[1])[1])\n",
    "        \n",
    "metro_map[l_name] = stations"
   ]
  },
  {
   "cell_type": "code",
   "execution_count": 22,
   "metadata": {},
   "outputs": [
    {
     "data": {
      "text/plain": [
       "{'北京地铁1号线': ['黑石头站',\n",
       "  '高井站',\n",
       "  '福寿岭站',\n",
       "  '苹果园站',\n",
       "  '古城站',\n",
       "  '衙门口站',\n",
       "  '八角游乐园站',\n",
       "  '八宝山站',\n",
       "  '玉泉路站',\n",
       "  '五棵松站',\n",
       "  '万寿路站',\n",
       "  '公主坟站',\n",
       "  '军事博物馆站',\n",
       "  '木樨地站',\n",
       "  '南礼士路站',\n",
       "  '复兴门站',\n",
       "  '西单站',\n",
       "  '天安门西站',\n",
       "  '天安门东站',\n",
       "  '王府井站',\n",
       "  '东单站',\n",
       "  '建国门站',\n",
       "  '永安里站',\n",
       "  '国贸站',\n",
       "  '大望路站',\n",
       "  '四惠站',\n",
       "  '四惠东站',\n",
       "  '高碑店站',\n",
       "  '传媒大学站',\n",
       "  '双桥站',\n",
       "  '管庄站',\n",
       "  '八里桥站',\n",
       "  '通州北苑站',\n",
       "  '果园站',\n",
       "  '九棵树站',\n",
       "  '梨园站',\n",
       "  '临河里站',\n",
       "  '土桥站',\n",
       "  '花庄站',\n",
       "  '环球度假区站']}"
      ]
     },
     "execution_count": 22,
     "metadata": {},
     "output_type": "execute_result"
    }
   ],
   "source": [
    "metro_map"
   ]
  },
  {
   "cell_type": "code",
   "execution_count": 24,
   "metadata": {},
   "outputs": [
    {
     "data": {
      "text/plain": [
       "{'北京地铁2号线': ['西直门站',\n",
       "  '积水潭站',\n",
       "  '鼓楼大街站',\n",
       "  '安定门站',\n",
       "  '雍和宫站',\n",
       "  '东直门站',\n",
       "  '东四十条站',\n",
       "  '朝阳门站',\n",
       "  '建国门站',\n",
       "  '北京站',\n",
       "  '崇文门站',\n",
       "  '前门站',\n",
       "  '和平门站',\n",
       "  '中南海</a>站',\n",
       "  '人民大会堂</a>站',\n",
       "  '宣武门站',\n",
       "  '长椿街站',\n",
       "  '复兴门站',\n",
       "  '阜成门站',\n",
       "  '车公庄站',\n",
       "  '西直门站']}"
      ]
     },
     "execution_count": 24,
     "metadata": {},
     "output_type": "execute_result"
    }
   ],
   "source": [
    "metro_map = {}\n",
    "l_name, l_url = list(urls_map.items())[1]\n",
    "headers = {\"User-Agent\":\"Mozilla/5.0 (Windows NT 10.0;Win64;x64) AppleWebKit/537.36 (KHTML,like Gecko) Chrome/75.0.3770.100 Safari/537.36\"}\n",
    "r1 = requests.get(l_url, headers=headers)\n",
    "r1.encoding = 'utf8'\n",
    "soup1 = BeautifulSoup(r1.text, 'html.parser')\n",
    "\n",
    "import re\n",
    "rc = re.compile('<a href=\"#(\\d+_\\d+)\">车站列表</a>')\n",
    "\n",
    "# soup1.find_all(attrs={\"class\": \"catalog-list column-4\"})\n",
    "\n",
    "for s in soup1.find_all(class_=\"catalog-list\")[0].find_all('a'):\n",
    "    if s.string == '车站列表':\n",
    "        anchor = rc.match(str(s))[1]\n",
    "\n",
    "siblings = soup1.find(attrs={\"name\":anchor}).parent.next_siblings\n",
    "\n",
    "while (True):\n",
    "    sibling = next(siblings)\n",
    "    if sibling == '\\n':\n",
    "        continue\n",
    "    if sibling.find_all('tr'):\n",
    "        t = sibling.find_all('tr')\n",
    "        break\n",
    "        \n",
    "r1 = re.compile('.+?>(.+?站)<.+')\n",
    "r2 = re.compile('.+>(.+站)')\n",
    "stations = []\n",
    "for i in t:\n",
    "    res = r1.match(''.join(str(i).split('\\n')))\n",
    "    if res:\n",
    "        stations.append(r2.match(res[1])[1])\n",
    "        \n",
    "metro_map[l_name] = stations\n",
    "metro_map"
   ]
  },
  {
   "cell_type": "code",
   "execution_count": 25,
   "metadata": {},
   "outputs": [
    {
     "data": {
      "text/plain": [
       "{'北京地铁4号线': ['公益西桥站',\n",
       "  '角门西站',\n",
       "  '马家堡站',\n",
       "  '北京南站',\n",
       "  '陶然亭站',\n",
       "  '菜市口站',\n",
       "  '宣武门站',\n",
       "  '西单站',\n",
       "  '灵境胡同站',\n",
       "  '西四站',\n",
       "  '平安里站',\n",
       "  '新街口站',\n",
       "  '西直门站',\n",
       "  '动物园站',\n",
       "  '国家图书馆站',\n",
       "  '魏公村站',\n",
       "  '人民大学站',\n",
       "  '海淀黄庄站',\n",
       "  '中关村站',\n",
       "  '北京大学东门站',\n",
       "  '圆明园站',\n",
       "  '西苑站',\n",
       "  '北宫门站',\n",
       "  '安河桥北站']}"
      ]
     },
     "execution_count": 25,
     "metadata": {},
     "output_type": "execute_result"
    }
   ],
   "source": [
    "metro_map = {}\n",
    "l_name, l_url = list(urls_map.items())[2]\n",
    "headers = {\"User-Agent\":\"Mozilla/5.0 (Windows NT 10.0;Win64;x64) AppleWebKit/537.36 (KHTML,like Gecko) Chrome/75.0.3770.100 Safari/537.36\"}\n",
    "r1 = requests.get(l_url, headers=headers)\n",
    "r1.encoding = 'utf8'\n",
    "soup1 = BeautifulSoup(r1.text, 'html.parser')\n",
    "\n",
    "import re\n",
    "rc = re.compile('<a href=\"#(\\d+_\\d+)\">车站列表</a>')\n",
    "\n",
    "# soup1.find_all(attrs={\"class\": \"catalog-list column-4\"})\n",
    "\n",
    "for s in soup1.find_all(class_=\"catalog-list\")[0].find_all('a'):\n",
    "    if s.string == '车站列表':\n",
    "        anchor = rc.match(str(s))[1]\n",
    "\n",
    "siblings = soup1.find(attrs={\"name\":anchor}).parent.next_siblings\n",
    "\n",
    "while (True):\n",
    "    sibling = next(siblings)\n",
    "    if sibling == '\\n':\n",
    "        continue\n",
    "    if sibling.find_all('tr'):\n",
    "        t = sibling.find_all('tr')\n",
    "        break\n",
    "        \n",
    "r1 = re.compile('.+?>(.+?站)<.+')\n",
    "r2 = re.compile('.+>(.+站)')\n",
    "stations = []\n",
    "for i in t:\n",
    "    res = r1.match(''.join(str(i).split('\\n')))\n",
    "    if res:\n",
    "        stations.append(r2.match(res[1])[1])\n",
    "        \n",
    "metro_map[l_name] = stations\n",
    "metro_map"
   ]
  },
  {
   "cell_type": "code",
   "execution_count": 26,
   "metadata": {},
   "outputs": [
    {
     "data": {
      "text/plain": [
       "{'北京地铁5号线': ['宋家庄站',\n",
       "  '刘家窑站',\n",
       "  '蒲黄榆站',\n",
       "  '天坛东门站',\n",
       "  '磁器口站',\n",
       "  '崇文门站',\n",
       "  '东单站',\n",
       "  '灯市口站',\n",
       "  '东四站',\n",
       "  '张自忠路站',\n",
       "  '北新桥站',\n",
       "  '雍和宫站',\n",
       "  '和平里北街站',\n",
       "  '和平西桥站',\n",
       "  '惠新西街南口站',\n",
       "  '惠新西街北口站',\n",
       "  '大屯路东站',\n",
       "  '北苑路北站',\n",
       "  '立水桥南站',\n",
       "  '立水桥站',\n",
       "  '天通苑南站',\n",
       "  '天通苑站',\n",
       "  '天通苑北站',\n",
       "  '平西府站',\n",
       "  '平坊站',\n",
       "  '东沙各庄站',\n",
       "  '太阳城站',\n",
       "  '马坊站',\n",
       "  '大柳树站',\n",
       "  '小汤山站']}"
      ]
     },
     "execution_count": 26,
     "metadata": {},
     "output_type": "execute_result"
    }
   ],
   "source": [
    "metro_map = {}\n",
    "l_name, l_url = list(urls_map.items())[3]\n",
    "headers = {\"User-Agent\":\"Mozilla/5.0 (Windows NT 10.0;Win64;x64) AppleWebKit/537.36 (KHTML,like Gecko) Chrome/75.0.3770.100 Safari/537.36\"}\n",
    "r1 = requests.get(l_url, headers=headers)\n",
    "r1.encoding = 'utf8'\n",
    "soup1 = BeautifulSoup(r1.text, 'html.parser')\n",
    "\n",
    "import re\n",
    "rc = re.compile('<a href=\"#(\\d+_\\d+)\">车站列表</a>')\n",
    "\n",
    "# soup1.find_all(attrs={\"class\": \"catalog-list column-4\"})\n",
    "\n",
    "for s in soup1.find_all(class_=\"catalog-list\")[0].find_all('a'):\n",
    "    if s.string == '车站列表':\n",
    "        anchor = rc.match(str(s))[1]\n",
    "\n",
    "siblings = soup1.find(attrs={\"name\":anchor}).parent.next_siblings\n",
    "\n",
    "while (True):\n",
    "    sibling = next(siblings)\n",
    "    if sibling == '\\n':\n",
    "        continue\n",
    "    if sibling.find_all('tr'):\n",
    "        t = sibling.find_all('tr')\n",
    "        break\n",
    "        \n",
    "r1 = re.compile('.+?>(.+?站)<.+')\n",
    "r2 = re.compile('.+>(.+站)')\n",
    "stations = []\n",
    "for i in t:\n",
    "    res = r1.match(''.join(str(i).split('\\n')))\n",
    "    if res:\n",
    "        stations.append(r2.match(res[1])[1])\n",
    "        \n",
    "metro_map[l_name] = stations\n",
    "metro_map"
   ]
  },
  {
   "cell_type": "code",
   "execution_count": 27,
   "metadata": {},
   "outputs": [
    {
     "data": {
      "text/plain": [
       "{'北京地铁6号线': ['金安桥站',\n",
       "  '苹果园站',\n",
       "  '杨庄站',\n",
       "  '西黄村站',\n",
       "  '廖公庄站',\n",
       "  '田村站',\n",
       "  '海淀五路居站',\n",
       "  '慈寿寺站',\n",
       "  '花园桥站',\n",
       "  '白石桥南站',\n",
       "  '二里沟站',\n",
       "  '车公庄西站',\n",
       "  '车公庄站',\n",
       "  '平安里站',\n",
       "  '北海北站',\n",
       "  '南锣鼓巷站',\n",
       "  '东四站',\n",
       "  '朝阳门站',\n",
       "  '东大桥站',\n",
       "  '呼家楼站',\n",
       "  '金台路站',\n",
       "  '十里堡站',\n",
       "  '青年路站',\n",
       "  '褡裢坡站',\n",
       "  '黄渠站',\n",
       "  '常营站',\n",
       "  '草房站',\n",
       "  '物资学院路站',\n",
       "  '通州北关站',\n",
       "  '通运门站',\n",
       "  '北运河西站',\n",
       "  '北运河东站',\n",
       "  '郝家府站',\n",
       "  '东夏园站',\n",
       "  '潞城站']}"
      ]
     },
     "execution_count": 27,
     "metadata": {},
     "output_type": "execute_result"
    }
   ],
   "source": [
    "metro_map = {}\n",
    "l_name, l_url = list(urls_map.items())[4]\n",
    "headers = {\"User-Agent\":\"Mozilla/5.0 (Windows NT 10.0;Win64;x64) AppleWebKit/537.36 (KHTML,like Gecko) Chrome/75.0.3770.100 Safari/537.36\"}\n",
    "r1 = requests.get(l_url, headers=headers)\n",
    "r1.encoding = 'utf8'\n",
    "soup1 = BeautifulSoup(r1.text, 'html.parser')\n",
    "\n",
    "import re\n",
    "rc = re.compile('<a href=\"#(\\d+_\\d+)\">车站列表</a>')\n",
    "\n",
    "# soup1.find_all(attrs={\"class\": \"catalog-list column-4\"})\n",
    "\n",
    "for s in soup1.find_all(class_=\"catalog-list\")[0].find_all('a'):\n",
    "    if s.string == '车站列表':\n",
    "        anchor = rc.match(str(s))[1]\n",
    "\n",
    "siblings = soup1.find(attrs={\"name\":anchor}).parent.next_siblings\n",
    "\n",
    "while (True):\n",
    "    sibling = next(siblings)\n",
    "    if sibling == '\\n':\n",
    "        continue\n",
    "    if sibling.find_all('tr'):\n",
    "        t = sibling.find_all('tr')\n",
    "        break\n",
    "        \n",
    "r1 = re.compile('.+?>(.+?站)<.+')\n",
    "r2 = re.compile('.+>(.+站)')\n",
    "stations = []\n",
    "for i in t:\n",
    "    res = r1.match(''.join(str(i).split('\\n')))\n",
    "    if res:\n",
    "        stations.append(r2.match(res[1])[1])\n",
    "        \n",
    "metro_map[l_name] = stations\n",
    "metro_map"
   ]
  },
  {
   "cell_type": "code",
   "execution_count": 28,
   "metadata": {},
   "outputs": [
    {
     "data": {
      "text/plain": [
       "{'北京地铁7号线': []}"
      ]
     },
     "execution_count": 28,
     "metadata": {},
     "output_type": "execute_result"
    }
   ],
   "source": [
    "metro_map = {}\n",
    "l_name, l_url = list(urls_map.items())[5]\n",
    "headers = {\"User-Agent\":\"Mozilla/5.0 (Windows NT 10.0;Win64;x64) AppleWebKit/537.36 (KHTML,like Gecko) Chrome/75.0.3770.100 Safari/537.36\"}\n",
    "r1 = requests.get(l_url, headers=headers)\n",
    "r1.encoding = 'utf8'\n",
    "soup1 = BeautifulSoup(r1.text, 'html.parser')\n",
    "\n",
    "import re\n",
    "rc = re.compile('<a href=\"#(\\d+_\\d+)\">车站列表</a>')\n",
    "\n",
    "# soup1.find_all(attrs={\"class\": \"catalog-list column-4\"})\n",
    "\n",
    "for s in soup1.find_all(class_=\"catalog-list\")[0].find_all('a'):\n",
    "    if s.string == '车站列表':\n",
    "        anchor = rc.match(str(s))[1]\n",
    "\n",
    "siblings = soup1.find(attrs={\"name\":anchor}).parent.next_siblings\n",
    "\n",
    "while (True):\n",
    "    sibling = next(siblings)\n",
    "    if sibling == '\\n':\n",
    "        continue\n",
    "    if sibling.find_all('tr'):\n",
    "        t = sibling.find_all('tr')\n",
    "        break\n",
    "        \n",
    "r1 = re.compile('.+?>(.+?站)<.+')\n",
    "r2 = re.compile('.+>(.+站)')\n",
    "stations = []\n",
    "for i in t:\n",
    "    res = r1.match(''.join(str(i).split('\\n')))\n",
    "    if res:\n",
    "        stations.append(r2.match(res[1])[1])\n",
    "        \n",
    "metro_map[l_name] = stations\n",
    "metro_map"
   ]
  },
  {
   "cell_type": "code",
   "execution_count": 29,
   "metadata": {},
   "outputs": [
    {
     "data": {
      "text/plain": [
       "{'北京地铁8号线': ['朱辛庄站',\n",
       "  '育知路站',\n",
       "  '平西府站',\n",
       "  '回龙观东大街站',\n",
       "  '霍营站',\n",
       "  '育新站',\n",
       "  '西小口站',\n",
       "  '永泰庄站',\n",
       "  '林萃桥站',\n",
       "  '森林公园南门站',\n",
       "  '奥林匹克公园站',\n",
       "  '奥体中心站',\n",
       "  '北土城站',\n",
       "  '安华桥站',\n",
       "  '安德里北街站',\n",
       "  '鼓楼大街站',\n",
       "  '什刹海站',\n",
       "  '南锣鼓巷站',\n",
       "  '中国美术馆站',\n",
       "  '金鱼胡同站',\n",
       "  '王府井站',\n",
       "  '前门站',\n",
       "  '珠市口站',\n",
       "  '天桥站',\n",
       "  '永定门外站',\n",
       "  '木樨园站',\n",
       "  '海户屯站',\n",
       "  '大红门站',\n",
       "  '大红门南站',\n",
       "  '和义站',\n",
       "  '东高地站',\n",
       "  '火箭万源站',\n",
       "  '五福堂站',\n",
       "  '德茂站',\n",
       "  '瀛海站',\n",
       "  '瀛海南站']}"
      ]
     },
     "execution_count": 29,
     "metadata": {},
     "output_type": "execute_result"
    }
   ],
   "source": [
    "metro_map = {}\n",
    "l_name, l_url = list(urls_map.items())[6]\n",
    "headers = {\"User-Agent\":\"Mozilla/5.0 (Windows NT 10.0;Win64;x64) AppleWebKit/537.36 (KHTML,like Gecko) Chrome/75.0.3770.100 Safari/537.36\"}\n",
    "r1 = requests.get(l_url, headers=headers)\n",
    "r1.encoding = 'utf8'\n",
    "soup1 = BeautifulSoup(r1.text, 'html.parser')\n",
    "\n",
    "import re\n",
    "rc = re.compile('<a href=\"#(\\d+_\\d+)\">车站列表</a>')\n",
    "\n",
    "# soup1.find_all(attrs={\"class\": \"catalog-list column-4\"})\n",
    "\n",
    "for s in soup1.find_all(class_=\"catalog-list\")[0].find_all('a'):\n",
    "    if s.string == '车站列表':\n",
    "        anchor = rc.match(str(s))[1]\n",
    "\n",
    "siblings = soup1.find(attrs={\"name\":anchor}).parent.next_siblings\n",
    "\n",
    "while (True):\n",
    "    sibling = next(siblings)\n",
    "    if sibling == '\\n':\n",
    "        continue\n",
    "    if sibling.find_all('tr'):\n",
    "        t = sibling.find_all('tr')\n",
    "        break\n",
    "        \n",
    "r1 = re.compile('.+?>(.+?站)<.+')\n",
    "r2 = re.compile('.+>(.+站)')\n",
    "stations = []\n",
    "for i in t:\n",
    "    res = r1.match(''.join(str(i).split('\\n')))\n",
    "    if res:\n",
    "        stations.append(r2.match(res[1])[1])\n",
    "        \n",
    "metro_map[l_name] = stations\n",
    "metro_map"
   ]
  },
  {
   "cell_type": "code",
   "execution_count": null,
   "metadata": {},
   "outputs": [],
   "source": []
  }
 ],
 "metadata": {
  "kernelspec": {
   "display_name": "Python 3",
   "language": "python",
   "name": "python3"
  },
  "language_info": {
   "codemirror_mode": {
    "name": "ipython",
    "version": 3
   },
   "file_extension": ".py",
   "mimetype": "text/x-python",
   "name": "python",
   "nbconvert_exporter": "python",
   "pygments_lexer": "ipython3",
   "version": "3.7.3"
  }
 },
 "nbformat": 4,
 "nbformat_minor": 2
}
