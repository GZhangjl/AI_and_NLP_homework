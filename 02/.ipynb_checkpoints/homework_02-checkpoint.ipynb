{
 "cells": [
  {
   "cell_type": "code",
   "execution_count": 1,
   "metadata": {},
   "outputs": [],
   "source": [
    "import requests"
   ]
  },
  {
   "cell_type": "code",
   "execution_count": 2,
   "metadata": {},
   "outputs": [],
   "source": [
    "headers = {\"User-Agent\":\"Mozilla/5.0 (Windows NT 10.0;Win64;x64) AppleWebKit/537.36 (KHTML,like Gecko) Chrome/75.0.3770.100 Safari/537.36\"}\n",
    "r = requests.get('https://baike.baidu.com/item/北京地铁/408485', headers=headers)"
   ]
  },
  {
   "cell_type": "code",
   "execution_count": 3,
   "metadata": {},
   "outputs": [],
   "source": [
    "r.encoding = 'utf8'\n",
    "content = r.text"
   ]
  },
  {
   "cell_type": "code",
   "execution_count": 4,
   "metadata": {},
   "outputs": [
    {
     "data": {
      "text/plain": [
       "str"
      ]
     },
     "execution_count": 4,
     "metadata": {},
     "output_type": "execute_result"
    }
   ],
   "source": [
    "type(content)"
   ]
  },
  {
   "cell_type": "code",
   "execution_count": 5,
   "metadata": {},
   "outputs": [],
   "source": [
    "from bs4 import BeautifulSoup"
   ]
  },
  {
   "cell_type": "code",
   "execution_count": 6,
   "metadata": {},
   "outputs": [],
   "source": [
    "soup = BeautifulSoup(content, 'html.parser')"
   ]
  },
  {
   "cell_type": "code",
   "execution_count": 7,
   "metadata": {},
   "outputs": [
    {
     "data": {
      "text/plain": [
       "<tr><td valign=\"top\" width=\"198\"><a href=\"/item/%E5%8C%97%E4%BA%AC%E5%9C%B0%E9%93%811%E5%8F%B7%E7%BA%BF\" target=\"_blank\">北京地铁1号线</a></td><td align=\"left\" valign=\"top\" width=\"198\">DKZ4 SFM04</td><td valign=\"top\" width=\"198\">6节B型</td></tr>"
      ]
     },
     "execution_count": 7,
     "metadata": {},
     "output_type": "execute_result"
    }
   ],
   "source": [
    "soup.find_all('table')[4].find_all('tr')[1:-1][0]"
   ]
  },
  {
   "cell_type": "code",
   "execution_count": 8,
   "metadata": {},
   "outputs": [
    {
     "name": "stdout",
     "output_type": "stream",
     "text": [
      "https://baike.baidu.com/item/%E5%8C%97%E4%BA%AC%E5%9C%B0%E9%93%811%E5%8F%B7%E7%BA%BF 北京地铁1号线\n",
      "https://baike.baidu.com/item/%E5%8C%97%E4%BA%AC%E5%9C%B0%E9%93%812%E5%8F%B7%E7%BA%BF 北京地铁2号线\n",
      "https://baike.baidu.com/item/%E5%8C%97%E4%BA%AC%E5%9C%B0%E9%93%814%E5%8F%B7%E7%BA%BF 北京地铁4号线\n",
      "https://baike.baidu.com/item/%E5%8C%97%E4%BA%AC%E5%9C%B0%E9%93%815%E5%8F%B7%E7%BA%BF 北京地铁5号线\n",
      "https://baike.baidu.com/item/%E5%8C%97%E4%BA%AC%E5%9C%B0%E9%93%816%E5%8F%B7%E7%BA%BF 北京地铁6号线\n",
      "https://baike.baidu.com/item/%E5%8C%97%E4%BA%AC%E5%9C%B0%E9%93%817%E5%8F%B7%E7%BA%BF 北京地铁7号线\n",
      "https://baike.baidu.com/item/%E5%8C%97%E4%BA%AC%E5%9C%B0%E9%93%818%E5%8F%B7%E7%BA%BF 北京地铁8号线\n",
      "https://baike.baidu.com/item/%E5%8C%97%E4%BA%AC%E5%9C%B0%E9%93%819%E5%8F%B7%E7%BA%BF 北京地铁9号线\n",
      "https://baike.baidu.com/item/%E5%8C%97%E4%BA%AC%E5%9C%B0%E9%93%8110%E5%8F%B7%E7%BA%BF 北京地铁10号线\n",
      "https://baike.baidu.com/item/%E5%8C%97%E4%BA%AC%E5%9C%B0%E9%93%8113%E5%8F%B7%E7%BA%BF 北京地铁13号线\n",
      "https://baike.baidu.com/item/%E5%8C%97%E4%BA%AC%E5%9C%B0%E9%93%8114%E5%8F%B7%E7%BA%BF 北京地铁14号线\n",
      "https://baike.baidu.com/item/%E5%8C%97%E4%BA%AC%E5%9C%B0%E9%93%8115%E5%8F%B7%E7%BA%BF 北京地铁15号线\n",
      "https://baike.baidu.com/item/%E5%8C%97%E4%BA%AC%E5%9C%B0%E9%93%8116%E5%8F%B7%E7%BA%BF 北京地铁16号线\n",
      "https://baike.baidu.com/item/%E5%8C%97%E4%BA%AC%E5%9C%B0%E9%93%81%E6%98%8C%E5%B9%B3%E7%BA%BF 北京地铁昌平线\n",
      "https://baike.baidu.com/item/%E5%8C%97%E4%BA%AC%E5%9C%B0%E9%93%81%E6%88%BF%E5%B1%B1%E7%BA%BF 北京地铁房山线\n",
      "https://baike.baidu.com/item/%E5%8C%97%E4%BA%AC%E5%9C%B0%E9%93%81%E4%BA%A6%E5%BA%84%E7%BA%BF 北京地铁亦庄线\n",
      "https://baike.baidu.com/item/%E5%8C%97%E4%BA%AC%E5%9C%B0%E9%93%81%E7%87%95%E6%88%BF%E7%BA%BF 北京地铁燕房线\n",
      "https://baike.baidu.com/item/%E5%8C%97%E4%BA%AC%E5%9C%B0%E9%93%81%E6%9C%BA%E5%9C%BA%E7%BA%BF 北京地铁机场线\n"
     ]
    }
   ],
   "source": [
    "urls_map = {}\n",
    "for line in soup.find_all('table')[4].find_all('tr')[1:-1]:\n",
    "    line_url = line.a['href']\n",
    "    line_url = 'https://baike.baidu.com' + line_url\n",
    "    line_name = line.a.contents\n",
    "    print(line_url, line_name[0])\n",
    "    urls_map[line_name[0]] = line_url"
   ]
  },
  {
   "cell_type": "code",
   "execution_count": 9,
   "metadata": {},
   "outputs": [
    {
     "data": {
      "text/plain": [
       "{'北京地铁1号线': 'https://baike.baidu.com/item/%E5%8C%97%E4%BA%AC%E5%9C%B0%E9%93%811%E5%8F%B7%E7%BA%BF',\n",
       " '北京地铁2号线': 'https://baike.baidu.com/item/%E5%8C%97%E4%BA%AC%E5%9C%B0%E9%93%812%E5%8F%B7%E7%BA%BF',\n",
       " '北京地铁4号线': 'https://baike.baidu.com/item/%E5%8C%97%E4%BA%AC%E5%9C%B0%E9%93%814%E5%8F%B7%E7%BA%BF',\n",
       " '北京地铁5号线': 'https://baike.baidu.com/item/%E5%8C%97%E4%BA%AC%E5%9C%B0%E9%93%815%E5%8F%B7%E7%BA%BF',\n",
       " '北京地铁6号线': 'https://baike.baidu.com/item/%E5%8C%97%E4%BA%AC%E5%9C%B0%E9%93%816%E5%8F%B7%E7%BA%BF',\n",
       " '北京地铁7号线': 'https://baike.baidu.com/item/%E5%8C%97%E4%BA%AC%E5%9C%B0%E9%93%817%E5%8F%B7%E7%BA%BF',\n",
       " '北京地铁8号线': 'https://baike.baidu.com/item/%E5%8C%97%E4%BA%AC%E5%9C%B0%E9%93%818%E5%8F%B7%E7%BA%BF',\n",
       " '北京地铁9号线': 'https://baike.baidu.com/item/%E5%8C%97%E4%BA%AC%E5%9C%B0%E9%93%819%E5%8F%B7%E7%BA%BF',\n",
       " '北京地铁10号线': 'https://baike.baidu.com/item/%E5%8C%97%E4%BA%AC%E5%9C%B0%E9%93%8110%E5%8F%B7%E7%BA%BF',\n",
       " '北京地铁13号线': 'https://baike.baidu.com/item/%E5%8C%97%E4%BA%AC%E5%9C%B0%E9%93%8113%E5%8F%B7%E7%BA%BF',\n",
       " '北京地铁14号线': 'https://baike.baidu.com/item/%E5%8C%97%E4%BA%AC%E5%9C%B0%E9%93%8114%E5%8F%B7%E7%BA%BF',\n",
       " '北京地铁15号线': 'https://baike.baidu.com/item/%E5%8C%97%E4%BA%AC%E5%9C%B0%E9%93%8115%E5%8F%B7%E7%BA%BF',\n",
       " '北京地铁16号线': 'https://baike.baidu.com/item/%E5%8C%97%E4%BA%AC%E5%9C%B0%E9%93%8116%E5%8F%B7%E7%BA%BF',\n",
       " '北京地铁昌平线': 'https://baike.baidu.com/item/%E5%8C%97%E4%BA%AC%E5%9C%B0%E9%93%81%E6%98%8C%E5%B9%B3%E7%BA%BF',\n",
       " '北京地铁房山线': 'https://baike.baidu.com/item/%E5%8C%97%E4%BA%AC%E5%9C%B0%E9%93%81%E6%88%BF%E5%B1%B1%E7%BA%BF',\n",
       " '北京地铁亦庄线': 'https://baike.baidu.com/item/%E5%8C%97%E4%BA%AC%E5%9C%B0%E9%93%81%E4%BA%A6%E5%BA%84%E7%BA%BF',\n",
       " '北京地铁燕房线': 'https://baike.baidu.com/item/%E5%8C%97%E4%BA%AC%E5%9C%B0%E9%93%81%E7%87%95%E6%88%BF%E7%BA%BF',\n",
       " '北京地铁机场线': 'https://baike.baidu.com/item/%E5%8C%97%E4%BA%AC%E5%9C%B0%E9%93%81%E6%9C%BA%E5%9C%BA%E7%BA%BF'}"
      ]
     },
     "execution_count": 9,
     "metadata": {},
     "output_type": "execute_result"
    }
   ],
   "source": [
    "urls_map"
   ]
  },
  {
   "cell_type": "code",
   "execution_count": 10,
   "metadata": {},
   "outputs": [],
   "source": [
    "headers = {\"User-Agent\":\"Mozilla/5.0 (Windows NT 10.0;Win64;x64) AppleWebKit/537.36 (KHTML,like Gecko) Chrome/75.0.3770.100 Safari/537.36\"}\n",
    "r1 = requests.get('https://baike.baidu.com/item/%E5%8C%97%E4%BA%AC%E5%9C%B0%E9%93%811%E5%8F%B7%E7%BA%BF', headers=headers)"
   ]
  },
  {
   "cell_type": "code",
   "execution_count": 11,
   "metadata": {},
   "outputs": [],
   "source": [
    "r1.encoding = 'utf8'"
   ]
  },
  {
   "cell_type": "code",
   "execution_count": 12,
   "metadata": {},
   "outputs": [],
   "source": [
    "soup1 = BeautifulSoup(r1.text, 'html.parser')"
   ]
  },
  {
   "cell_type": "code",
   "execution_count": 13,
   "metadata": {},
   "outputs": [],
   "source": [
    "import re\n",
    "rc = re.compile('<a href=\"#(\\d+_\\d+)\">车站列表</a>')\n",
    "\n",
    "# soup1.find_all(attrs={\"class\": \"catalog-list column-4\"})\n",
    "\n",
    "for s in soup1.find_all(class_=\"catalog-list\")[0].find_all('a'):\n",
    "    if s.string == '车站列表':\n",
    "        anchor = rc.match(str(s))[1]"
   ]
  },
  {
   "cell_type": "code",
   "execution_count": 14,
   "metadata": {},
   "outputs": [],
   "source": [
    "siblings = soup1.find(attrs={\"name\":anchor}).parent.next_siblings"
   ]
  },
  {
   "cell_type": "code",
   "execution_count": 15,
   "metadata": {},
   "outputs": [],
   "source": [
    "while (True):\n",
    "    sibling = next(siblings)\n",
    "    if sibling == '\\n':\n",
    "        continue\n",
    "    if sibling.find_all('tr'):\n",
    "        t = sibling.find_all('tr')\n",
    "        break"
   ]
  },
  {
   "cell_type": "code",
   "execution_count": 16,
   "metadata": {},
   "outputs": [
    {
     "data": {
      "text/plain": [
       "'<tr><tdalign=\"left\"valign=\"top\"width=\"14\"><divclass=\"para\"label-module=\"para\">54#</div></td><tdcolspan=\"2\"rowspan=\"1\"width=\"50\"><ahref=\"/item/%E9%BB%91%E7%9F%B3%E5%A4%B4%E7%AB%99\"target=\"_blank\">黑石头站</a></td><tdrowspan=\"15\"width=\"40\"><divclass=\"para\"label-module=\"para\"><adata-lemmaid=\"16343847\"href=\"/item/%E5%8C%97%E4%BA%AC%E5%9C%B0%E9%93%81%E4%B8%80%E6%9C%9F%E5%B7%A5%E7%A8%8B/16343847\"target=\"_blank\">北京地铁一期工程</a></div></td><tdalign=\"center\"colspan=\"3\"rowspan=\"2\"valign=\"middle\"width=\"180\"><divclass=\"para\"label-module=\"para\">军备车站，无开放计划</div></td><tdalign=\"center\"colspan=\"1\"rowspan=\"2\"valign=\"middle\"width=\"93\"><divclass=\"para\"label-module=\"para\">无</div></td><tdcolspan=\"1\"width=\"93\"></td><tdalign=\"center\"colspan=\"1\"rowspan=\"8\"valign=\"middle\"width=\"85\"></td></tr>'"
      ]
     },
     "execution_count": 16,
     "metadata": {},
     "output_type": "execute_result"
    }
   ],
   "source": [
    "''.join(str(t[1]).split())"
   ]
  },
  {
   "cell_type": "code",
   "execution_count": 17,
   "metadata": {},
   "outputs": [
    {
     "name": "stdout",
     "output_type": "stream",
     "text": [
      "黑石头站\n",
      "高井站\n",
      "福寿岭站\n",
      "苹果园站\n",
      "古城站\n",
      "衙门口站\n",
      "八角游乐园站\n",
      "八宝山站\n",
      "玉泉路站\n",
      "五棵松站\n",
      "万寿路站\n",
      "公主坟站\n",
      "军事博物馆站\n",
      "木樨地站\n",
      "南礼士路站\n",
      "（规划中，可能与金融街站\n",
      "西单站\n",
      "天安门西站\n",
      "天安门东站\n",
      "王府井站\n",
      "东单站\n",
      "建国门站\n",
      "永安里站\n",
      "国贸站\n",
      "大望路站\n",
      "四惠站\n",
      "四惠东站\n",
      "高碑店站\n",
      "传媒大学站\n",
      "双桥站\n",
      "管庄站\n",
      "八里桥站\n",
      "通州北苑站\n",
      "果园站\n",
      "九棵树站\n",
      "梨园站\n",
      "临河里站\n",
      "土桥站\n",
      "花庄站\n",
      "环球度假区站\n"
     ]
    }
   ],
   "source": [
    "r = re.compile('.+>(.+站)<.+')\n",
    "for i in t:\n",
    "    if r.match(''.join(str(i).split())):\n",
    "        print(r.match(''.join(str(i).split()))[1])"
   ]
  },
  {
   "cell_type": "code",
   "execution_count": 18,
   "metadata": {},
   "outputs": [],
   "source": [
    "r = re.compile('.+>(.+站)<.+')\n",
    "st = []\n",
    "for i in t:\n",
    "    if r.match(''.join(str(i).split())):\n",
    "        st.append(r.match(''.join(str(i).split()))[1])"
   ]
  },
  {
   "cell_type": "code",
   "execution_count": 19,
   "metadata": {},
   "outputs": [
    {
     "data": {
      "text/plain": [
       "40"
      ]
     },
     "execution_count": 19,
     "metadata": {},
     "output_type": "execute_result"
    }
   ],
   "source": [
    "len(st)"
   ]
  },
  {
   "cell_type": "code",
   "execution_count": 20,
   "metadata": {},
   "outputs": [
    {
     "data": {
      "text/plain": [
       "42"
      ]
     },
     "execution_count": 20,
     "metadata": {},
     "output_type": "execute_result"
    }
   ],
   "source": [
    "len(t)"
   ]
  },
  {
   "cell_type": "code",
   "execution_count": 21,
   "metadata": {},
   "outputs": [],
   "source": [
    "metro_map = {}\n",
    "l_name, l_url = list(urls_map.items())[0]\n",
    "headers = {\"User-Agent\":\"Mozilla/5.0 (Windows NT 10.0;Win64;x64) AppleWebKit/537.36 (KHTML,like Gecko) Chrome/75.0.3770.100 Safari/537.36\"}\n",
    "r1 = requests.get(l_url, headers=headers)\n",
    "r1.encoding = 'utf8'\n",
    "soup1 = BeautifulSoup(r1.text, 'html.parser')\n",
    "\n",
    "import re\n",
    "rc = re.compile('<a href=\"#(\\d+_\\d+)\">车站列表</a>')\n",
    "\n",
    "# soup1.find_all(attrs={\"class\": \"catalog-list column-4\"})\n",
    "\n",
    "for s in soup1.find_all(class_=\"catalog-list\")[0].find_all('a'):\n",
    "    if s.string == '车站列表':\n",
    "        anchor = rc.match(str(s))[1]\n",
    "\n",
    "siblings = soup1.find(attrs={\"name\":anchor}).parent.next_siblings\n",
    "\n",
    "while (True):\n",
    "    sibling = next(siblings)\n",
    "    if sibling == '\\n':\n",
    "        continue\n",
    "    if sibling.find_all('tr'):\n",
    "        t = sibling.find_all('tr')\n",
    "        break\n",
    "        \n",
    "r1 = re.compile('.+?>(.+?站)<.+')\n",
    "r2 = re.compile('.+>(.+站)')\n",
    "stations = []\n",
    "for i in t:\n",
    "    res = r1.match(''.join(str(i).split('\\n')))\n",
    "    if res:\n",
    "        stations.append(r2.match(res[1])[1])\n",
    "        \n",
    "metro_map[l_name] = stations"
   ]
  },
  {
   "cell_type": "code",
   "execution_count": 22,
   "metadata": {},
   "outputs": [
    {
     "data": {
      "text/plain": [
       "{'北京地铁1号线': ['黑石头站',\n",
       "  '高井站',\n",
       "  '福寿岭站',\n",
       "  '苹果园站',\n",
       "  '古城站',\n",
       "  '衙门口站',\n",
       "  '八角游乐园站',\n",
       "  '八宝山站',\n",
       "  '玉泉路站',\n",
       "  '五棵松站',\n",
       "  '万寿路站',\n",
       "  '公主坟站',\n",
       "  '军事博物馆站',\n",
       "  '木樨地站',\n",
       "  '南礼士路站',\n",
       "  '复兴门站',\n",
       "  '西单站',\n",
       "  '天安门西站',\n",
       "  '天安门东站',\n",
       "  '王府井站',\n",
       "  '东单站',\n",
       "  '建国门站',\n",
       "  '永安里站',\n",
       "  '国贸站',\n",
       "  '大望路站',\n",
       "  '四惠站',\n",
       "  '四惠东站',\n",
       "  '高碑店站',\n",
       "  '传媒大学站',\n",
       "  '双桥站',\n",
       "  '管庄站',\n",
       "  '八里桥站',\n",
       "  '通州北苑站',\n",
       "  '果园站',\n",
       "  '九棵树站',\n",
       "  '梨园站',\n",
       "  '临河里站',\n",
       "  '土桥站',\n",
       "  '花庄站',\n",
       "  '环球度假区站']}"
      ]
     },
     "execution_count": 22,
     "metadata": {},
     "output_type": "execute_result"
    }
   ],
   "source": [
    "metro_map"
   ]
  },
  {
   "cell_type": "code",
   "execution_count": 351,
   "metadata": {},
   "outputs": [],
   "source": [
    "from bs4 import BeautifulSoup\n",
    "import re\n",
    "\n",
    "def get_metro_station(name, url):\n",
    "    headers = {\"User-Agent\":\"Mozilla/5.0 (Windows NT 10.0;Win64;x64) AppleWebKit/537.36 (KHTML,like Gecko) Chrome/75.0.3770.100 Safari/537.36\"}\n",
    "    r = requests.get(url, headers=headers)\n",
    "    r.encoding = 'utf8'\n",
    "    soup = BeautifulSoup(r.text, 'html.parser')\n",
    "\n",
    "    rc = re.compile('<a href=\"#(\\d+_\\d+)\">车站列表</a>')\n",
    "\n",
    "    # soup.find_all(attrs={\"class\": \"catalog-list column-4\"})\n",
    "\n",
    "    for s in soup.find_all(class_=\"catalog-list\")[0].find_all('a'):\n",
    "        if s.string == '车站列表':\n",
    "            anchor = rc.match(str(s))[1]\n",
    "            break\n",
    "\n",
    "    siblings = soup.find(attrs={\"name\":anchor}).parent.next_siblings\n",
    "\n",
    "    while (True):\n",
    "        sibling = next(siblings)\n",
    "        if sibling == '\\n':\n",
    "            continue\n",
    "        if sibling.find_all('tr'):\n",
    "            t = sibling.find_all('tr')\n",
    "            break\n",
    "\n",
    "    rc1 = re.compile('.+?>(.+?站)<.+')\n",
    "    rc2 = re.compile('.+>(.+站)')\n",
    "    stations = []\n",
    "    metro_map = {}\n",
    "    for i in t:\n",
    "        res = rc1.match(''.join(str(i).split('\\n')))\n",
    "        if res:\n",
    "            stations.append(rc2.match(res[1])[1])\n",
    "\n",
    "    metro_map[name] = stations\n",
    "    \n",
    "    return metro_map"
   ]
  },
  {
   "cell_type": "code",
   "execution_count": 352,
   "metadata": {},
   "outputs": [
    {
     "data": {
      "text/plain": [
       "{'北京地铁1号线': 'https://baike.baidu.com/item/%E5%8C%97%E4%BA%AC%E5%9C%B0%E9%93%811%E5%8F%B7%E7%BA%BF',\n",
       " '北京地铁2号线': 'https://baike.baidu.com/item/%E5%8C%97%E4%BA%AC%E5%9C%B0%E9%93%812%E5%8F%B7%E7%BA%BF',\n",
       " '北京地铁4号线': 'https://baike.baidu.com/item/%E5%8C%97%E4%BA%AC%E5%9C%B0%E9%93%814%E5%8F%B7%E7%BA%BF',\n",
       " '北京地铁5号线': 'https://baike.baidu.com/item/%E5%8C%97%E4%BA%AC%E5%9C%B0%E9%93%815%E5%8F%B7%E7%BA%BF',\n",
       " '北京地铁6号线': 'https://baike.baidu.com/item/%E5%8C%97%E4%BA%AC%E5%9C%B0%E9%93%816%E5%8F%B7%E7%BA%BF',\n",
       " '北京地铁7号线': 'https://baike.baidu.com/item/%E5%8C%97%E4%BA%AC%E5%9C%B0%E9%93%817%E5%8F%B7%E7%BA%BF',\n",
       " '北京地铁8号线': 'https://baike.baidu.com/item/%E5%8C%97%E4%BA%AC%E5%9C%B0%E9%93%818%E5%8F%B7%E7%BA%BF',\n",
       " '北京地铁9号线': 'https://baike.baidu.com/item/%E5%8C%97%E4%BA%AC%E5%9C%B0%E9%93%819%E5%8F%B7%E7%BA%BF',\n",
       " '北京地铁10号线': 'https://baike.baidu.com/item/%E5%8C%97%E4%BA%AC%E5%9C%B0%E9%93%8110%E5%8F%B7%E7%BA%BF',\n",
       " '北京地铁13号线': 'https://baike.baidu.com/item/%E5%8C%97%E4%BA%AC%E5%9C%B0%E9%93%8113%E5%8F%B7%E7%BA%BF',\n",
       " '北京地铁14号线': 'https://baike.baidu.com/item/%E5%8C%97%E4%BA%AC%E5%9C%B0%E9%93%8114%E5%8F%B7%E7%BA%BF',\n",
       " '北京地铁15号线': 'https://baike.baidu.com/item/%E5%8C%97%E4%BA%AC%E5%9C%B0%E9%93%8115%E5%8F%B7%E7%BA%BF',\n",
       " '北京地铁16号线': 'https://baike.baidu.com/item/%E5%8C%97%E4%BA%AC%E5%9C%B0%E9%93%8116%E5%8F%B7%E7%BA%BF',\n",
       " '北京地铁昌平线': 'https://baike.baidu.com/item/%E5%8C%97%E4%BA%AC%E5%9C%B0%E9%93%81%E6%98%8C%E5%B9%B3%E7%BA%BF',\n",
       " '北京地铁房山线': 'https://baike.baidu.com/item/%E5%8C%97%E4%BA%AC%E5%9C%B0%E9%93%81%E6%88%BF%E5%B1%B1%E7%BA%BF',\n",
       " '北京地铁亦庄线': 'https://baike.baidu.com/item/%E5%8C%97%E4%BA%AC%E5%9C%B0%E9%93%81%E4%BA%A6%E5%BA%84%E7%BA%BF',\n",
       " '北京地铁燕房线': 'https://baike.baidu.com/item/%E5%8C%97%E4%BA%AC%E5%9C%B0%E9%93%81%E7%87%95%E6%88%BF%E7%BA%BF',\n",
       " '北京地铁机场线': 'https://baike.baidu.com/item/%E5%8C%97%E4%BA%AC%E5%9C%B0%E9%93%81%E6%9C%BA%E5%9C%BA%E7%BA%BF'}"
      ]
     },
     "execution_count": 352,
     "metadata": {},
     "output_type": "execute_result"
    }
   ],
   "source": [
    "urls_map"
   ]
  },
  {
   "cell_type": "code",
   "execution_count": 353,
   "metadata": {},
   "outputs": [
    {
     "name": "stdout",
     "output_type": "stream",
     "text": [
      "0 北京地铁1号线\n",
      "1 北京地铁2号线\n",
      "2 北京地铁4号线\n",
      "3 北京地铁5号线\n",
      "4 北京地铁6号线\n",
      "5 北京地铁7号线\n",
      "6 北京地铁8号线\n",
      "7 北京地铁9号线\n",
      "8 北京地铁10号线\n",
      "9 北京地铁13号线\n",
      "10 北京地铁14号线\n",
      "11 北京地铁15号线\n",
      "12 北京地铁16号线\n",
      "13 北京地铁昌平线\n",
      "14 北京地铁房山线\n",
      "15 北京地铁燕房线\n",
      "16 北京地铁机场线\n"
     ]
    }
   ],
   "source": [
    "a = []\n",
    "n = 0\n",
    "for name, url in urls_map.items():\n",
    "    try:\n",
    "        a.append(get_metro_station(name, url))\n",
    "        print(n, name)\n",
    "        n +=1\n",
    "    except Exception:\n",
    "        continue"
   ]
  },
  {
   "cell_type": "code",
   "execution_count": 354,
   "metadata": {},
   "outputs": [
    {
     "data": {
      "text/plain": [
       "17"
      ]
     },
     "execution_count": 354,
     "metadata": {},
     "output_type": "execute_result"
    }
   ],
   "source": [
    "len(a)"
   ]
  },
  {
   "cell_type": "code",
   "execution_count": 355,
   "metadata": {},
   "outputs": [
    {
     "name": "stdout",
     "output_type": "stream",
     "text": [
      "40 ['黑石头站', '高井站', '福寿岭站', '苹果园站', '古城站', '衙门口站', '八角游乐园站', '八宝山站', '玉泉路站', '五棵松站', '万寿路站', '公主坟站', '军事博物馆站', '木樨地站', '南礼士路站', '复兴门站', '西单站', '天安门西站', '天安门东站', '王府井站', '东单站', '建国门站', '永安里站', '国贸站', '大望路站', '四惠站', '四惠东站', '高碑店站', '传媒大学站', '双桥站', '管庄站', '八里桥站', '通州北苑站', '果园站', '九棵树站', '梨园站', '临河里站', '土桥站', '花庄站', '环球度假区站']\n",
      "21 ['西直门站', '积水潭站', '鼓楼大街站', '安定门站', '雍和宫站', '东直门站', '东四十条站', '朝阳门站', '建国门站', '北京站', '崇文门站', '前门站', '和平门站', '中南海站', '人民大会堂站', '宣武门站', '长椿街站', '复兴门站', '阜成门站', '车公庄站', '西直门站']\n",
      "24 ['公益西桥站', '角门西站', '马家堡站', '北京南站', '陶然亭站', '菜市口站', '宣武门站', '西单站', '灵境胡同站', '西四站', '平安里站', '新街口站', '西直门站', '动物园站', '国家图书馆站', '魏公村站', '人民大学站', '海淀黄庄站', '中关村站', '北京大学东门站', '圆明园站', '西苑站', '北宫门站', '安河桥北站']\n",
      "30 ['宋家庄站', '刘家窑站', '蒲黄榆站', '天坛东门站', '磁器口站', '崇文门站', '东单站', '灯市口站', '东四站', '张自忠路站', '北新桥站', '雍和宫站', '和平里北街站', '和平西桥站', '惠新西街南口站', '惠新西街北口站', '大屯路东站', '北苑路北站', '立水桥南站', '立水桥站', '天通苑南站', '天通苑站', '天通苑北站', '平西府站', '平坊站', '东沙各庄站', '太阳城站', '马坊站', '大柳树站', '小汤山站']\n",
      "35 ['金安桥站', '苹果园站', '杨庄站', '西黄村站', '廖公庄站', '田村站', '海淀五路居站', '慈寿寺站', '花园桥站', '白石桥南站', '二里沟站', '车公庄西站', '车公庄站', '平安里站', '北海北站', '南锣鼓巷站', '东四站', '朝阳门站', '东大桥站', '呼家楼站', '金台路站', '十里堡站', '青年路站', '褡裢坡站', '黄渠站', '常营站', '草房站', '物资学院路站', '通州北关站', '通运门站', '北运河西站', '北运河东站', '郝家府站', '东夏园站', '潞城站']\n",
      "0 []\n",
      "36 ['朱辛庄站', '育知路站', '平西府站', '回龙观东大街站', '霍营站', '育新站', '西小口站', '永泰庄站', '林萃桥站', '森林公园南门站', '奥林匹克公园站', '奥体中心站', '北土城站', '安华桥站', '安德里北街站', '鼓楼大街站', '什刹海站', '南锣鼓巷站', '中国美术馆站', '金鱼胡同站', '王府井站', '前门站', '珠市口站', '天桥站', '永定门外站', '木樨园站', '海户屯站', '大红门站', '大红门南站', '和义站', '东高地站', '火箭万源站', '五福堂站', '德茂站', '瀛海站', '瀛海南站']\n",
      "13 ['郭公庄站', '丰台科技园站', '科怡路站', '丰台南路站', '丰台东大街站', '七里庄站', '六里桥站', '六里桥东站', '北京西站', '军事博物馆站', '白堆子站', '白石桥南站', '国家图书馆站']\n",
      "46 ['巴沟站', '苏州街站', '海淀黄庄站', '知春里站', '知春路站', '西土城站', '牡丹园站', '健德门站', '北土城站', '安贞门站', '惠新西街南口站', '芍药居站', '太阳宫站', '三元桥站', '亮马桥站', '农业展览馆站', '团结湖站', '呼家楼站', '金台夕照站', '国贸站', '双井站', '劲松站', '潘家园站', '十里河站', '分钟寺站', '成寿寺站', '宋家庄站', '石榴庄站', '大红门站', '角门东站', '角门西站', '草桥站', '纪家庙站', '首经贸站', '丰台站', '泥洼站', '西局站', '六里桥站', '莲花桥站', '公主坟站', '西钓鱼台站', '慈寿寺站', '车道沟站', '长春桥站', '火器营站', '巴沟站']\n",
      "17 ['西直门站', '大钟寺站', '知春路站', '五道口站', '上地站', '清河站', '西二旗站', '龙泽站', '回龙观站', '霍营站', '立水桥站', '北苑站', '望京西站', '芍药居站', '光熙门站', '柳芳站', '东直门站']\n",
      "36 ['张郭庄站', '园博园站', '大瓦窑站', '郭庄子站', '大井站', '七里庄站', '西局站', '东管头站', '丽泽商务区站', '菜户营站', '西铁营站', '景风门站', '北京南站', '陶然桥站', '永定门外站', '景泰站', '蒲黄榆站', '方庄站', '十里河站', '北工大西门站', '平乐园站', '九龙山站', '大望路站', '红庙站', '金台路站', '朝阳公园站', '枣营站', '东风北桥站', '将台站', '高家园站', '望京南站', '阜通站', '望京站', '东湖渠站', '来广营站', '善各庄站']\n",
      "20 ['清华东路西口站', '六道口站', '北沙滩站', '奥林匹克公园站', '安立路站', '大屯路东站', '关庄站', '望京西站', '望京站', '望京东站', '崔各庄站', '马泉营站', '孙河站', '国展站', '花梨坎站', '后沙峪站', '南法信站', '石门站', '顺义站', '俸伯站']\n",
      "29 ['宛平站', '榆树庄站', '看丹站', '富丰桥站', '丰台南路站', '丰台站', '丰益桥南站', '丽泽商务区站', '红莲南里站', '达官营站', '木樨地站', '玉渊潭东门站', '甘家口站', '二里沟站', '国家图书馆站', '万寿寺站', '苏州桥站', '苏州街站', '万泉河桥站', '西苑站', '农大南路站', '马连洼站', '西北旺站', '永丰南站', '永丰站', '屯佃站', '稻香湖路站', '温阳路站', '北安河站']\n",
      "19 ['蓟门桥站', '西土城站', '学院桥站', '六道口站', '学清路站', '上清桥站', '清河站', '西二旗站', '生命科学园站', '朱辛庄站', '巩华城站', '沙河站', '沙河高教园站', '南邵站', '北邵洼站', '昌平东关站', '昌平站', '十三陵景区站', '昌平西山口站']\n",
      "1 ['起止站']\n",
      "12 ['阎村东站', '紫草坞站', '阎村站', '星城站', '大石河东站', '马各庄站', '饶乐府站', '房山城关站', '燕山站', '老城区站', '顾册站', '周口店镇站']\n",
      "4 ['东直门站', '三元桥站', '3号航站楼站', '2号航站楼站']\n"
     ]
    }
   ],
   "source": [
    "for i in a:\n",
    "    l = list(i.values())[0]\n",
    "    print(len(l), l)\n",
    "    \n",
    "# a[5] 北京地铁7号线 / a[14] 北京地铁房山线 / 北京地铁亦庄线  有问题"
   ]
  },
  {
   "cell_type": "code",
   "execution_count": 231,
   "metadata": {},
   "outputs": [],
   "source": [
    "try:\n",
    "    a.remove({'北京地铁7号线': []})\n",
    "    a.remove({'北京地铁房山线': ['起止站']})\n",
    "except Exception:\n",
    "    pass"
   ]
  },
  {
   "cell_type": "code",
   "execution_count": 232,
   "metadata": {},
   "outputs": [
    {
     "data": {
      "text/plain": [
       "[{'北京地铁1号线': ['黑石头站',\n",
       "   '高井站',\n",
       "   '福寿岭站',\n",
       "   '苹果园站',\n",
       "   '古城站',\n",
       "   '衙门口站',\n",
       "   '八角游乐园站',\n",
       "   '八宝山站',\n",
       "   '玉泉路站',\n",
       "   '五棵松站',\n",
       "   '万寿路站',\n",
       "   '公主坟站',\n",
       "   '军事博物馆站',\n",
       "   '木樨地站',\n",
       "   '南礼士路站',\n",
       "   '复兴门站',\n",
       "   '西单站',\n",
       "   '天安门西站',\n",
       "   '天安门东站',\n",
       "   '王府井站',\n",
       "   '东单站',\n",
       "   '建国门站',\n",
       "   '永安里站',\n",
       "   '国贸站',\n",
       "   '大望路站',\n",
       "   '四惠站',\n",
       "   '四惠东站',\n",
       "   '高碑店站',\n",
       "   '传媒大学站',\n",
       "   '双桥站',\n",
       "   '管庄站',\n",
       "   '八里桥站',\n",
       "   '通州北苑站',\n",
       "   '果园站',\n",
       "   '九棵树站',\n",
       "   '梨园站',\n",
       "   '临河里站',\n",
       "   '土桥站',\n",
       "   '花庄站',\n",
       "   '环球度假区站']},\n",
       " {'北京地铁2号线': ['西直门站',\n",
       "   '积水潭站',\n",
       "   '鼓楼大街站',\n",
       "   '安定门站',\n",
       "   '雍和宫站',\n",
       "   '东直门站',\n",
       "   '东四十条站',\n",
       "   '朝阳门站',\n",
       "   '建国门站',\n",
       "   '北京站',\n",
       "   '崇文门站',\n",
       "   '前门站',\n",
       "   '和平门站',\n",
       "   '中南海站',\n",
       "   '人民大会堂站',\n",
       "   '宣武门站',\n",
       "   '长椿街站',\n",
       "   '复兴门站',\n",
       "   '阜成门站',\n",
       "   '车公庄站',\n",
       "   '西直门站']},\n",
       " {'北京地铁4号线': ['公益西桥站',\n",
       "   '角门西站',\n",
       "   '马家堡站',\n",
       "   '北京南站',\n",
       "   '陶然亭站',\n",
       "   '菜市口站',\n",
       "   '宣武门站',\n",
       "   '西单站',\n",
       "   '灵境胡同站',\n",
       "   '西四站',\n",
       "   '平安里站',\n",
       "   '新街口站',\n",
       "   '西直门站',\n",
       "   '动物园站',\n",
       "   '国家图书馆站',\n",
       "   '魏公村站',\n",
       "   '人民大学站',\n",
       "   '海淀黄庄站',\n",
       "   '中关村站',\n",
       "   '北京大学东门站',\n",
       "   '圆明园站',\n",
       "   '西苑站',\n",
       "   '北宫门站',\n",
       "   '安河桥北站']},\n",
       " {'北京地铁5号线': ['宋家庄站',\n",
       "   '刘家窑站',\n",
       "   '蒲黄榆站',\n",
       "   '天坛东门站',\n",
       "   '磁器口站',\n",
       "   '崇文门站',\n",
       "   '东单站',\n",
       "   '灯市口站',\n",
       "   '东四站',\n",
       "   '张自忠路站',\n",
       "   '北新桥站',\n",
       "   '雍和宫站',\n",
       "   '和平里北街站',\n",
       "   '和平西桥站',\n",
       "   '惠新西街南口站',\n",
       "   '惠新西街北口站',\n",
       "   '大屯路东站',\n",
       "   '北苑路北站',\n",
       "   '立水桥南站',\n",
       "   '立水桥站',\n",
       "   '天通苑南站',\n",
       "   '天通苑站',\n",
       "   '天通苑北站',\n",
       "   '平西府站',\n",
       "   '平坊站',\n",
       "   '东沙各庄站',\n",
       "   '太阳城站',\n",
       "   '马坊站',\n",
       "   '大柳树站',\n",
       "   '小汤山站']},\n",
       " {'北京地铁6号线': ['金安桥站',\n",
       "   '苹果园站',\n",
       "   '杨庄站',\n",
       "   '西黄村站',\n",
       "   '廖公庄站',\n",
       "   '田村站',\n",
       "   '海淀五路居站',\n",
       "   '慈寿寺站',\n",
       "   '花园桥站',\n",
       "   '白石桥南站',\n",
       "   '二里沟站',\n",
       "   '车公庄西站',\n",
       "   '车公庄站',\n",
       "   '平安里站',\n",
       "   '北海北站',\n",
       "   '南锣鼓巷站',\n",
       "   '东四站',\n",
       "   '朝阳门站',\n",
       "   '东大桥站',\n",
       "   '呼家楼站',\n",
       "   '金台路站',\n",
       "   '十里堡站',\n",
       "   '青年路站',\n",
       "   '褡裢坡站',\n",
       "   '黄渠站',\n",
       "   '常营站',\n",
       "   '草房站',\n",
       "   '物资学院路站',\n",
       "   '通州北关站',\n",
       "   '通运门站',\n",
       "   '北运河西站',\n",
       "   '北运河东站',\n",
       "   '郝家府站',\n",
       "   '东夏园站',\n",
       "   '潞城站']},\n",
       " {'北京地铁8号线': ['朱辛庄站',\n",
       "   '育知路站',\n",
       "   '平西府站',\n",
       "   '回龙观东大街站',\n",
       "   '霍营站',\n",
       "   '育新站',\n",
       "   '西小口站',\n",
       "   '永泰庄站',\n",
       "   '林萃桥站',\n",
       "   '森林公园南门站',\n",
       "   '奥林匹克公园站',\n",
       "   '奥体中心站',\n",
       "   '北土城站',\n",
       "   '安华桥站',\n",
       "   '安德里北街站',\n",
       "   '鼓楼大街站',\n",
       "   '什刹海站',\n",
       "   '南锣鼓巷站',\n",
       "   '中国美术馆站',\n",
       "   '金鱼胡同站',\n",
       "   '王府井站',\n",
       "   '前门站',\n",
       "   '珠市口站',\n",
       "   '天桥站',\n",
       "   '永定门外站',\n",
       "   '木樨园站',\n",
       "   '海户屯站',\n",
       "   '大红门站',\n",
       "   '大红门南站',\n",
       "   '和义站',\n",
       "   '东高地站',\n",
       "   '火箭万源站',\n",
       "   '五福堂站',\n",
       "   '德茂站',\n",
       "   '瀛海站',\n",
       "   '瀛海南站']},\n",
       " {'北京地铁9号线': ['郭公庄站',\n",
       "   '丰台科技园站',\n",
       "   '科怡路站',\n",
       "   '丰台南路站',\n",
       "   '丰台东大街站',\n",
       "   '七里庄站',\n",
       "   '六里桥站',\n",
       "   '六里桥东站',\n",
       "   '北京西站',\n",
       "   '军事博物馆站',\n",
       "   '白堆子站',\n",
       "   '白石桥南站',\n",
       "   '国家图书馆站']},\n",
       " {'北京地铁10号线': ['巴沟站',\n",
       "   '苏州街站',\n",
       "   '海淀黄庄站',\n",
       "   '知春里站',\n",
       "   '知春路站',\n",
       "   '西土城站',\n",
       "   '牡丹园站',\n",
       "   '健德门站',\n",
       "   '北土城站',\n",
       "   '安贞门站',\n",
       "   '惠新西街南口站',\n",
       "   '芍药居站',\n",
       "   '太阳宫站',\n",
       "   '三元桥站',\n",
       "   '亮马桥站',\n",
       "   '农业展览馆站',\n",
       "   '团结湖站',\n",
       "   '呼家楼站',\n",
       "   '金台夕照站',\n",
       "   '国贸站',\n",
       "   '双井站',\n",
       "   '劲松站',\n",
       "   '潘家园站',\n",
       "   '十里河站',\n",
       "   '分钟寺站',\n",
       "   '成寿寺站',\n",
       "   '宋家庄站',\n",
       "   '石榴庄站',\n",
       "   '大红门站',\n",
       "   '角门东站',\n",
       "   '角门西站',\n",
       "   '草桥站',\n",
       "   '纪家庙站',\n",
       "   '首经贸站',\n",
       "   '丰台站',\n",
       "   '泥洼站',\n",
       "   '西局站',\n",
       "   '六里桥站',\n",
       "   '莲花桥站',\n",
       "   '公主坟站',\n",
       "   '西钓鱼台站',\n",
       "   '慈寿寺站',\n",
       "   '车道沟站',\n",
       "   '长春桥站',\n",
       "   '火器营站',\n",
       "   '巴沟站']},\n",
       " {'北京地铁13号线': ['西直门站',\n",
       "   '大钟寺站',\n",
       "   '知春路站',\n",
       "   '五道口站',\n",
       "   '上地站',\n",
       "   '清河站',\n",
       "   '西二旗站',\n",
       "   '龙泽站',\n",
       "   '回龙观站',\n",
       "   '霍营站',\n",
       "   '立水桥站',\n",
       "   '北苑站',\n",
       "   '望京西站',\n",
       "   '芍药居站',\n",
       "   '光熙门站',\n",
       "   '柳芳站',\n",
       "   '东直门站']},\n",
       " {'北京地铁14号线': ['张郭庄站',\n",
       "   '园博园站',\n",
       "   '大瓦窑站',\n",
       "   '郭庄子站',\n",
       "   '大井站',\n",
       "   '七里庄站',\n",
       "   '西局站',\n",
       "   '东管头站',\n",
       "   '丽泽商务区站',\n",
       "   '菜户营站',\n",
       "   '西铁营站',\n",
       "   '景风门站',\n",
       "   '北京南站',\n",
       "   '陶然桥站',\n",
       "   '永定门外站',\n",
       "   '景泰站',\n",
       "   '蒲黄榆站',\n",
       "   '方庄站',\n",
       "   '十里河站',\n",
       "   '北工大西门站',\n",
       "   '平乐园站',\n",
       "   '九龙山站',\n",
       "   '大望路站',\n",
       "   '红庙站',\n",
       "   '金台路站',\n",
       "   '朝阳公园站',\n",
       "   '枣营站',\n",
       "   '东风北桥站',\n",
       "   '将台站',\n",
       "   '高家园站',\n",
       "   '望京南站',\n",
       "   '阜通站',\n",
       "   '望京站',\n",
       "   '东湖渠站',\n",
       "   '来广营站',\n",
       "   '善各庄站']},\n",
       " {'北京地铁15号线': ['清华东路西口站',\n",
       "   '六道口站',\n",
       "   '北沙滩站',\n",
       "   '奥林匹克公园站',\n",
       "   '安立路站',\n",
       "   '大屯路东站',\n",
       "   '关庄站',\n",
       "   '望京西站',\n",
       "   '望京站',\n",
       "   '望京东站',\n",
       "   '崔各庄站',\n",
       "   '马泉营站',\n",
       "   '孙河站',\n",
       "   '国展站',\n",
       "   '花梨坎站',\n",
       "   '后沙峪站',\n",
       "   '南法信站',\n",
       "   '石门站',\n",
       "   '顺义站',\n",
       "   '俸伯站']},\n",
       " {'北京地铁16号线': ['宛平站',\n",
       "   '榆树庄站',\n",
       "   '看丹站',\n",
       "   '富丰桥站',\n",
       "   '丰台南路站',\n",
       "   '丰台站',\n",
       "   '丰益桥南站',\n",
       "   '丽泽商务区站',\n",
       "   '红莲南里站',\n",
       "   '达官营站',\n",
       "   '木樨地站',\n",
       "   '玉渊潭东门站',\n",
       "   '甘家口站',\n",
       "   '二里沟站',\n",
       "   '国家图书馆站',\n",
       "   '万寿寺站',\n",
       "   '苏州桥站',\n",
       "   '苏州街站',\n",
       "   '万泉河桥站',\n",
       "   '西苑站',\n",
       "   '农大南路站',\n",
       "   '马连洼站',\n",
       "   '西北旺站',\n",
       "   '永丰南站',\n",
       "   '永丰站',\n",
       "   '屯佃站',\n",
       "   '稻香湖路站',\n",
       "   '温阳路站',\n",
       "   '北安河站']},\n",
       " {'北京地铁昌平线': ['蓟门桥站',\n",
       "   '西土城站',\n",
       "   '学院桥站',\n",
       "   '六道口站',\n",
       "   '学清路站',\n",
       "   '上清桥站',\n",
       "   '清河站',\n",
       "   '西二旗站',\n",
       "   '生命科学园站',\n",
       "   '朱辛庄站',\n",
       "   '巩华城站',\n",
       "   '沙河站',\n",
       "   '沙河高教园站',\n",
       "   '南邵站',\n",
       "   '北邵洼站',\n",
       "   '昌平东关站',\n",
       "   '昌平站',\n",
       "   '十三陵景区站',\n",
       "   '昌平西山口站']},\n",
       " {'北京地铁燕房线': ['阎村东站',\n",
       "   '紫草坞站',\n",
       "   '阎村站',\n",
       "   '星城站',\n",
       "   '大石河东站',\n",
       "   '马各庄站',\n",
       "   '饶乐府站',\n",
       "   '房山城关站',\n",
       "   '燕山站',\n",
       "   '老城区站',\n",
       "   '顾册站',\n",
       "   '周口店镇站']},\n",
       " {'北京地铁机场线': ['东直门站', '三元桥站', '3号航站楼站', '2号航站楼站']}]"
      ]
     },
     "execution_count": 232,
     "metadata": {},
     "output_type": "execute_result"
    }
   ],
   "source": [
    "a"
   ]
  },
  {
   "cell_type": "code",
   "execution_count": 253,
   "metadata": {},
   "outputs": [],
   "source": [
    "# 开始处理7号线\n",
    "\n",
    "headers = {\"User-Agent\":\"Mozilla/5.0 (Windows NT 10.0;Win64;x64) AppleWebKit/537.36 (KHTML,like Gecko) Chrome/75.0.3770.100 Safari/537.36\"}\n",
    "r_7 = requests.get('https://baike.baidu.com/item/%E5%8C%97%E4%BA%AC%E5%9C%B0%E9%93%817%E5%8F%B7%E7%BA%BF', headers=headers)"
   ]
  },
  {
   "cell_type": "code",
   "execution_count": 254,
   "metadata": {},
   "outputs": [],
   "source": [
    "r_7.encoding = 'utf8'"
   ]
  },
  {
   "cell_type": "code",
   "execution_count": 255,
   "metadata": {},
   "outputs": [],
   "source": [
    "soup = BeautifulSoup(r_7.text, 'html.parser')"
   ]
  },
  {
   "cell_type": "code",
   "execution_count": 256,
   "metadata": {},
   "outputs": [],
   "source": [
    "rc = re.compile('<a href=\"#(\\d+_\\d+)\">车站列表</a>')\n",
    "for s in soup.find_all(class_=\"catalog-list\")[0].find_all('a'):\n",
    "        if s.string == '车站列表':\n",
    "            anchor = rc.match(str(s))[1]\n",
    "            break"
   ]
  },
  {
   "cell_type": "code",
   "execution_count": 257,
   "metadata": {},
   "outputs": [
    {
     "data": {
      "text/plain": [
       "'2_2'"
      ]
     },
     "execution_count": 257,
     "metadata": {},
     "output_type": "execute_result"
    }
   ],
   "source": [
    "anchor"
   ]
  },
  {
   "cell_type": "code",
   "execution_count": 345,
   "metadata": {},
   "outputs": [
    {
     "data": {
      "text/plain": [
       "(30,\n",
       " ['北京西站',\n",
       "  '湾子站',\n",
       "  '达官营站',\n",
       "  '广安门内站',\n",
       "  '菜市口站',\n",
       "  '虎坊桥站',\n",
       "  '珠市口站',\n",
       "  '桥湾站',\n",
       "  '磁器口站',\n",
       "  '广渠门内站',\n",
       "  '广渠门外站',\n",
       "  '双井站',\n",
       "  '九龙山站',\n",
       "  '大郊亭站',\n",
       "  '百子湾站',\n",
       "  '化工站',\n",
       "  '南楼梓庄站',\n",
       "  '欢乐谷景区站',\n",
       "  '垡头站',\n",
       "  '双合站',\n",
       "  '焦化厂站',\n",
       "  '黄厂村站',\n",
       "  '豆各庄站',\n",
       "  '黑庄户站',\n",
       "  '万盛南街西口站',\n",
       "  '云景东路站',\n",
       "  '小马庄站',\n",
       "  '高楼金站',\n",
       "  '施园站',\n",
       "  '环球影城站'])"
      ]
     },
     "execution_count": 345,
     "metadata": {},
     "output_type": "execute_result"
    }
   ],
   "source": [
    "siblings = soup.find(attrs={\"name\":anchor}).parent.next_siblings\n",
    "\n",
    "while (True):\n",
    "    sibling = next(siblings)\n",
    "    if sibling == '\\n':\n",
    "        continue\n",
    "    if sibling.find('tr'):\n",
    "        if sibling.find('tr').find():\n",
    "            t = sibling.find_all('tr')\n",
    "            break\n",
    "\n",
    "rc1 = re.compile('.+?>(.+?站)<.+')\n",
    "rc2 = re.compile('.+>(.+站)')\n",
    "stations = []\n",
    "for i in t:\n",
    "    res = rc1.match(''.join(str(i).split('\\n')))\n",
    "    if res:\n",
    "        stations.append(rc2.match(res[1])[1])\n",
    "        \n",
    "len(stations), stations"
   ]
  },
  {
   "cell_type": "code",
   "execution_count": 341,
   "metadata": {},
   "outputs": [],
   "source": [
    "a = next(siblings)"
   ]
  },
  {
   "cell_type": "code",
   "execution_count": 342,
   "metadata": {},
   "outputs": [
    {
     "data": {
      "text/plain": [
       "<table class=\"table-view log-set-param\" data-sort=\"sortDisabled\" log-set-param=\"table_view\" width=\"658\"><caption>北京地铁7号线车站列表</caption><tr><th align=\"center\" valign=\"middle\" width=\"108\">车站名称</th><th align=\"center\" valign=\"middle\" width=\"81\">所属区段</th><th align=\"center\" valign=\"middle\" width=\"128\">开通日期</th><th align=\"center\" valign=\"middle\" width=\"219\"><div class=\"para\" label-module=\"para\">可换乘线路</div>\n",
       "</th><th align=\"center\" valign=\"middle\" width=\"122\">所在行政区</th></tr><tr><td align=\"center\" valign=\"middle\" width=\"108\"><a data-lemmaid=\"17646705\" href=\"/item/%E5%8C%97%E4%BA%AC%E8%A5%BF%E7%AB%99/17646705\" target=\"_blank\">北京西站</a></td><td align=\"center\" rowspan=\"21\" valign=\"middle\" width=\"81\"><div class=\"para\" label-module=\"para\">主线</div>\n",
       "<div class=\"para\" label-module=\"para\">（一期）</div>\n",
       "</td><td align=\"center\" rowspan=\"11\" valign=\"middle\" width=\"128\">2014年12月28日</td><td align=\"center\" valign=\"middle\" width=\"219\"><div class=\"para\" label-module=\"para\"><a href=\"/item/%E5%8C%97%E4%BA%AC%E5%9C%B0%E9%93%819%E5%8F%B7%E7%BA%BF\" target=\"_blank\">北京地铁9号线</a></div>\n",
       "</td><td align=\"center\" valign=\"middle\" width=\"122\"><a href=\"/item/%E4%B8%B0%E5%8F%B0%E5%8C%BA\" target=\"_blank\">丰台区</a></td></tr><tr><td align=\"center\" valign=\"middle\" width=\"108\"><a href=\"/item/%E6%B9%BE%E5%AD%90%E7%AB%99\" target=\"_blank\">湾子站</a></td><td align=\"center\" valign=\"middle\" width=\"219\">无</td><td align=\"center\" rowspan=\"5\" valign=\"middle\" width=\"122\"><a data-lemmaid=\"10234\" href=\"/item/%E8%A5%BF%E5%9F%8E%E5%8C%BA/10234\" target=\"_blank\">西城区</a></td></tr><tr><td align=\"center\" valign=\"middle\" width=\"108\"><a href=\"/item/%E8%BE%BE%E5%AE%98%E8%90%A5%E7%AB%99\" target=\"_blank\">达官营站</a></td><td align=\"center\" valign=\"middle\" width=\"219\"><a href=\"/item/%E5%8C%97%E4%BA%AC%E5%9C%B0%E9%93%8116%E5%8F%B7%E7%BA%BF\" target=\"_blank\"><i>北京地铁16号线</i></a></td></tr><tr><td align=\"center\" valign=\"middle\" width=\"108\"><a href=\"/item/%E5%B9%BF%E5%AE%89%E9%97%A8%E5%86%85%E7%AB%99\" target=\"_blank\">广安门内站</a></td><td align=\"center\" valign=\"middle\" width=\"219\">无</td></tr><tr><td align=\"center\" valign=\"middle\" width=\"108\"><a href=\"/item/%E8%8F%9C%E5%B8%82%E5%8F%A3%E7%AB%99\" target=\"_blank\">菜市口站</a></td><td align=\"center\" valign=\"middle\" width=\"219\"><a href=\"/item/%E5%8C%97%E4%BA%AC%E5%9C%B0%E9%93%814%E5%8F%B7%E7%BA%BF\" target=\"_blank\">北京地铁4号线</a></td></tr><tr><td align=\"center\" valign=\"middle\" width=\"108\"><a href=\"/item/%E8%99%8E%E5%9D%8A%E6%A1%A5%E7%AB%99\" target=\"_blank\">虎坊桥站</a></td><td align=\"center\" valign=\"middle\" width=\"219\">无</td></tr><tr><td align=\"center\" valign=\"middle\" width=\"108\"><a href=\"/item/%E7%8F%A0%E5%B8%82%E5%8F%A3%E7%AB%99\" target=\"_blank\">珠市口站</a></td><td align=\"center\" valign=\"middle\" width=\"219\"><a href=\"/item/%E5%8C%97%E4%BA%AC%E5%9C%B0%E9%93%818%E5%8F%B7%E7%BA%BF\" target=\"_blank\"><i>北京地铁8号线</i></a></td><td align=\"center\" valign=\"middle\" width=\"122\"><div class=\"para\" label-module=\"para\">西城区、<a data-lemmaid=\"21851\" href=\"/item/%E4%B8%9C%E5%9F%8E%E5%8C%BA/21851\" target=\"_blank\">东城区</a></div>\n",
       "</td></tr><tr><td align=\"center\" valign=\"middle\" width=\"108\"><a data-lemmaid=\"16259161\" href=\"/item/%E6%A1%A5%E6%B9%BE%E7%AB%99/16259161\" target=\"_blank\">桥湾站</a></td><td align=\"center\" valign=\"middle\" width=\"219\">无</td><td align=\"center\" rowspan=\"3\" valign=\"middle\" width=\"122\">东城区</td></tr><tr><td align=\"center\" valign=\"middle\" width=\"108\"><a data-lemmaid=\"2485819\" href=\"/item/%E7%A3%81%E5%99%A8%E5%8F%A3%E7%AB%99/2485819\" target=\"_blank\">磁器口站</a></td><td align=\"center\" valign=\"middle\" width=\"219\"><a href=\"/item/%E5%8C%97%E4%BA%AC%E5%9C%B0%E9%93%815%E5%8F%B7%E7%BA%BF\" target=\"_blank\">北京地铁5号线</a></td></tr><tr><td align=\"center\" valign=\"middle\" width=\"108\"><a href=\"/item/%E5%B9%BF%E6%B8%A0%E9%97%A8%E5%86%85%E7%AB%99\" target=\"_blank\">广渠门内站</a></td><td align=\"center\" valign=\"middle\" width=\"219\">无</td></tr><tr><td align=\"center\" valign=\"middle\" width=\"108\"><a href=\"/item/%E5%B9%BF%E6%B8%A0%E9%97%A8%E5%A4%96%E7%AB%99\" target=\"_blank\">广渠门外站</a></td><td align=\"center\" valign=\"middle\" width=\"219\"><a href=\"/item/%E5%8C%97%E4%BA%AC%E5%9C%B0%E9%93%8117%E5%8F%B7%E7%BA%BF\" target=\"_blank\"><i>北京地铁17号线</i></a></td><td align=\"center\" valign=\"middle\" width=\"122\"><div class=\"para\" label-module=\"para\">东城区、<a data-lemmaid=\"2134\" href=\"/item/%E6%9C%9D%E9%98%B3%E5%8C%BA/2134\" target=\"_blank\">朝阳区</a></div>\n",
       "</td></tr><tr><td align=\"center\" valign=\"middle\" width=\"108\"><a href=\"/item/%E5%8F%8C%E4%BA%95%E7%AB%99\" target=\"_blank\">双井站</a></td><td align=\"center\" valign=\"middle\" width=\"128\">暂缓开通</td><td align=\"center\" valign=\"middle\" width=\"219\"><a href=\"/item/%E5%8C%97%E4%BA%AC%E5%9C%B0%E9%93%8110%E5%8F%B7%E7%BA%BF\" target=\"_blank\">北京地铁10号线</a></td><td align=\"center\" colspan=\"1\" rowspan=\"14\" valign=\"middle\" width=\"122\">朝阳区</td></tr><tr><td align=\"center\" valign=\"middle\" width=\"108\"><a data-lemmaid=\"15085203\" href=\"/item/%E4%B9%9D%E9%BE%99%E5%B1%B1%E7%AB%99/15085203\" target=\"_blank\">九龙山站</a></td><td align=\"center\" rowspan=\"6\" valign=\"middle\" width=\"128\">2014年12月28日</td><td align=\"center\" valign=\"middle\" width=\"219\"><a href=\"/item/%E5%8C%97%E4%BA%AC%E5%9C%B0%E9%93%8114%E5%8F%B7%E7%BA%BF\" target=\"_blank\">北京地铁14号线</a></td></tr><tr><td align=\"center\" valign=\"middle\" width=\"108\"><a href=\"/item/%E5%A4%A7%E9%83%8A%E4%BA%AD%E7%AB%99\" target=\"_blank\">大郊亭站</a></td><td align=\"center\" valign=\"middle\" width=\"219\"><i>北京地铁</i><a href=\"/item/%E4%B8%9C%E5%9B%9B%E7%8E%AF%E7%BA%BF\" target=\"_blank\"><i>东四环线</i></a></td></tr><tr><td align=\"center\" valign=\"middle\" width=\"108\"><a data-lemmaid=\"16511037\" href=\"/item/%E7%99%BE%E5%AD%90%E6%B9%BE%E7%AB%99/16511037\" target=\"_blank\">百子湾站</a></td><td align=\"center\" colspan=\"1\" rowspan=\"2\" valign=\"middle\" width=\"219\">无</td></tr><tr><td align=\"center\" valign=\"middle\" width=\"108\"><a data-lemmaid=\"16510915\" href=\"/item/%E5%8C%96%E5%B7%A5%E7%AB%99/16510915\" target=\"_blank\">化工站</a></td></tr><tr><td align=\"center\" valign=\"middle\" width=\"108\"><a href=\"/item/%E5%8D%97%E6%A5%BC%E6%A2%93%E5%BA%84%E7%AB%99\" target=\"_blank\">南楼梓庄站</a></td><td align=\"center\" valign=\"middle\" width=\"219\"><a href=\"/item/%E5%8C%97%E4%BA%AC%E5%9C%B0%E9%93%8111%E5%8F%B7%E7%BA%BF\" target=\"_blank\"><i>北京地铁11号线</i></a></td></tr><tr><td align=\"center\" valign=\"middle\" width=\"108\"><a href=\"/item/%E6%AC%A2%E4%B9%90%E8%B0%B7%E6%99%AF%E5%8C%BA%E7%AB%99\" target=\"_blank\">欢乐谷景区站</a></td><td align=\"center\" colspan=\"1\" rowspan=\"8\" valign=\"middle\" width=\"219\">无</td></tr><tr><td align=\"center\" valign=\"middle\" width=\"108\"><a href=\"/item/%E5%9E%A1%E5%A4%B4%E7%AB%99\" target=\"_blank\">垡头站</a></td><td align=\"center\" valign=\"middle\" width=\"128\">2018年12月30日</td></tr><tr><td align=\"center\" valign=\"middle\" width=\"108\"><a href=\"/item/%E5%8F%8C%E5%90%88%E7%AB%99\" target=\"_blank\">双合站</a></td><td align=\"center\" rowspan=\"2\" valign=\"middle\" width=\"128\">2014年12月28日</td></tr><tr><td align=\"center\" valign=\"middle\" width=\"108\"><a href=\"/item/%E7%84%A6%E5%8C%96%E5%8E%82%E7%AB%99\" target=\"_blank\">焦化厂站</a></td></tr><tr><td align=\"center\" colspan=\"1\" rowspan=\"1\" valign=\"middle\"><a data-lemmaid=\"21899545\" href=\"/item/%E9%BB%84%E5%8E%82%E6%9D%91%E7%AB%99/21899545\" target=\"_blank\">黄厂村站</a></td><td align=\"center\" colspan=\"1\" rowspan=\"9\" valign=\"middle\"><div class=\"para\" label-module=\"para\">东延</div>\n",
       "<div class=\"para\" label-module=\"para\">（二期）</div>\n",
       "</td><td align=\"center\" colspan=\"1\" rowspan=\"9\" valign=\"middle\">2019年9月<sup class=\"sup--normal\" data-ctrmap=\":22,\" data-sup=\"22\">\n",
       "[22]</sup><a class=\"sup-anchor\" name=\"ref_[22]_1720195\"> </a>\n",
       "</td></tr><tr><td align=\"center\" colspan=\"1\" rowspan=\"1\" valign=\"middle\"><a href=\"/item/%E8%B1%86%E5%90%84%E5%BA%84%E7%AB%99\" target=\"_blank\">豆各庄站</a></td></tr><tr><td align=\"center\" colspan=\"1\" rowspan=\"1\" valign=\"middle\"><a data-lemmaid=\"21899514\" href=\"/item/%E9%BB%91%E5%BA%84%E6%88%B7%E7%AB%99/21899514\" target=\"_blank\">黑庄户站</a></td></tr><tr><td align=\"center\" colspan=\"1\" rowspan=\"1\" valign=\"middle\"><a data-lemmaid=\"20609485\" href=\"/item/%E4%B8%87%E7%9B%9B%E5%8D%97%E8%A1%97%E8%A5%BF%E5%8F%A3%E7%AB%99/20609485\" target=\"_blank\">万盛南街西口站</a></td></tr><tr><td align=\"center\" colspan=\"1\" rowspan=\"1\" valign=\"middle\"><a data-lemmaid=\"21899692\" href=\"/item/%E4%BA%91%E6%99%AF%E4%B8%9C%E8%B7%AF%E7%AB%99/21899692\" target=\"_blank\">云景东路站</a></td><td align=\"center\" colspan=\"1\" rowspan=\"1\" valign=\"middle\"><i><a href=\"/item/%E5%8C%97%E4%BA%AC%E5%B8%82%E9%83%8A%E9%93%81%E8%B7%AFS6%E7%BA%BF\" target=\"_blank\">北京市郊铁路S6线</a><sup class=\"sup--normal\" data-ctrmap=\":22,\" data-sup=\"22\">\n",
       "[22]</sup><a class=\"sup-anchor\" name=\"ref_[22]_1720195\"> </a>\n",
       "</i></td><td align=\"center\" colspan=\"1\" rowspan=\"5\" valign=\"middle\"><a data-lemmaid=\"5203\" href=\"/item/%E9%80%9A%E5%B7%9E%E5%8C%BA/5203\" target=\"_blank\">通州区</a></td></tr><tr><td align=\"center\" colspan=\"1\" rowspan=\"1\" valign=\"middle\"><a data-lemmaid=\"21899659\" href=\"/item/%E5%B0%8F%E9%A9%AC%E5%BA%84%E7%AB%99/21899659\" target=\"_blank\">小马庄站</a></td><td align=\"center\" colspan=\"1\" rowspan=\"2\" valign=\"middle\" width=\"180\"></td></tr><tr><td align=\"center\" colspan=\"1\" rowspan=\"1\" valign=\"middle\"><a data-lemmaid=\"21899654\" href=\"/item/%E9%AB%98%E6%A5%BC%E9%87%91%E7%AB%99/21899654\" target=\"_blank\">高楼金站</a></td></tr><tr><td align=\"center\" colspan=\"1\" rowspan=\"1\" valign=\"middle\">施园站</td><td align=\"center\" colspan=\"1\" rowspan=\"2\" valign=\"middle\" width=\"180\"><a data-lemmaid=\"7646800\" href=\"/item/%E5%8C%97%E4%BA%AC%E5%9C%B0%E9%93%811%E5%8F%B7%E7%BA%BF/7646800\" target=\"_blank\">北京地铁1号线</a>（<a data-lemmaid=\"5461430\" href=\"/item/%E5%85%AB%E9%80%9A%E7%BA%BF/5461430\" target=\"_blank\">八通线</a>）</td></tr><tr><td align=\"center\" colspan=\"1\" rowspan=\"1\" valign=\"middle\"><a data-lemmaid=\"20409120\" href=\"/item/%E7%8E%AF%E7%90%83%E5%BD%B1%E5%9F%8E%E7%AB%99/20409120\" target=\"_blank\">环球影城站</a></td></tr></table>"
      ]
     },
     "execution_count": 342,
     "metadata": {},
     "output_type": "execute_result"
    }
   ],
   "source": [
    "a"
   ]
  },
  {
   "cell_type": "code",
   "execution_count": 343,
   "metadata": {},
   "outputs": [
    {
     "data": {
      "text/plain": [
       "<th align=\"center\" valign=\"middle\" width=\"108\">车站名称</th>"
      ]
     },
     "execution_count": 343,
     "metadata": {},
     "output_type": "execute_result"
    }
   ],
   "source": [
    "a.find_all('tr')[0].find()"
   ]
  },
  {
   "cell_type": "code",
   "execution_count": 356,
   "metadata": {},
   "outputs": [],
   "source": [
    "from bs4 import BeautifulSoup\n",
    "import re\n",
    "\n",
    "def get_metro_station(name, url):\n",
    "    headers = {\"User-Agent\":\"Mozilla/5.0 (Windows NT 10.0;Win64;x64) AppleWebKit/537.36 (KHTML,like Gecko) Chrome/75.0.3770.100 Safari/537.36\"}\n",
    "    r = requests.get(url, headers=headers)\n",
    "    r.encoding = 'utf8'\n",
    "    soup = BeautifulSoup(r.text, 'html.parser')\n",
    "\n",
    "    rc = re.compile('<a href=\"#(\\d+_\\d+)\">车站列表</a>')\n",
    "\n",
    "    # soup.find_all(attrs={\"class\": \"catalog-list column-4\"})\n",
    "\n",
    "    for s in soup.find_all(class_=\"catalog-list\")[0].find_all('a'):\n",
    "        if s.string == '车站列表':\n",
    "            anchor = rc.match(str(s))[1]\n",
    "            break\n",
    "\n",
    "    siblings = soup.find(attrs={\"name\":anchor}).parent.next_siblings\n",
    "\n",
    "    while (True):\n",
    "        sibling = next(siblings)\n",
    "        if sibling == '\\n':\n",
    "            continue\n",
    "        if sibling.find('tr'):\n",
    "            if sibling.find('tr').find():\n",
    "                t = sibling.find_all('tr')\n",
    "                break\n",
    "\n",
    "    rc1 = re.compile('.+?>(.+?站)<.+')\n",
    "    rc2 = re.compile('.+>(.+站)')\n",
    "    stations = []\n",
    "    metro_map = {}\n",
    "    for i in t:\n",
    "        res = rc1.match(''.join(str(i).split('\\n')))\n",
    "        if res:\n",
    "            stations.append(rc2.match(res[1])[1])\n",
    "\n",
    "    metro_map[name] = stations\n",
    "    \n",
    "    return metro_map"
   ]
  },
  {
   "cell_type": "code",
   "execution_count": 357,
   "metadata": {},
   "outputs": [
    {
     "name": "stdout",
     "output_type": "stream",
     "text": [
      "0 北京地铁1号线\n",
      "1 北京地铁2号线\n",
      "2 北京地铁4号线\n",
      "3 北京地铁5号线\n",
      "4 北京地铁6号线\n",
      "5 北京地铁7号线\n",
      "6 北京地铁8号线\n",
      "7 北京地铁9号线\n",
      "8 北京地铁10号线\n",
      "9 北京地铁13号线\n",
      "10 北京地铁14号线\n",
      "11 北京地铁15号线\n",
      "12 北京地铁16号线\n",
      "13 北京地铁昌平线\n",
      "14 北京地铁房山线\n",
      "15 北京地铁燕房线\n",
      "16 北京地铁机场线\n"
     ]
    }
   ],
   "source": [
    "a = []\n",
    "n = 0\n",
    "for name, url in urls_map.items():\n",
    "    try:\n",
    "        a.append(get_metro_station(name, url))\n",
    "        print(n, name)\n",
    "        n +=1\n",
    "    except Exception:\n",
    "        continue"
   ]
  },
  {
   "cell_type": "code",
   "execution_count": 359,
   "metadata": {},
   "outputs": [
    {
     "name": "stdout",
     "output_type": "stream",
     "text": [
      "40 ['黑石头站', '高井站', '福寿岭站', '苹果园站', '古城站', '衙门口站', '八角游乐园站', '八宝山站', '玉泉路站', '五棵松站', '万寿路站', '公主坟站', '军事博物馆站', '木樨地站', '南礼士路站', '复兴门站', '西单站', '天安门西站', '天安门东站', '王府井站', '东单站', '建国门站', '永安里站', '国贸站', '大望路站', '四惠站', '四惠东站', '高碑店站', '传媒大学站', '双桥站', '管庄站', '八里桥站', '通州北苑站', '果园站', '九棵树站', '梨园站', '临河里站', '土桥站', '花庄站', '环球度假区站']\n",
      "21 ['西直门站', '积水潭站', '鼓楼大街站', '安定门站', '雍和宫站', '东直门站', '东四十条站', '朝阳门站', '建国门站', '北京站', '崇文门站', '前门站', '和平门站', '中南海站', '人民大会堂站', '宣武门站', '长椿街站', '复兴门站', '阜成门站', '车公庄站', '西直门站']\n",
      "24 ['公益西桥站', '角门西站', '马家堡站', '北京南站', '陶然亭站', '菜市口站', '宣武门站', '西单站', '灵境胡同站', '西四站', '平安里站', '新街口站', '西直门站', '动物园站', '国家图书馆站', '魏公村站', '人民大学站', '海淀黄庄站', '中关村站', '北京大学东门站', '圆明园站', '西苑站', '北宫门站', '安河桥北站']\n",
      "30 ['宋家庄站', '刘家窑站', '蒲黄榆站', '天坛东门站', '磁器口站', '崇文门站', '东单站', '灯市口站', '东四站', '张自忠路站', '北新桥站', '雍和宫站', '和平里北街站', '和平西桥站', '惠新西街南口站', '惠新西街北口站', '大屯路东站', '北苑路北站', '立水桥南站', '立水桥站', '天通苑南站', '天通苑站', '天通苑北站', '平西府站', '平坊站', '东沙各庄站', '太阳城站', '马坊站', '大柳树站', '小汤山站']\n",
      "35 ['金安桥站', '苹果园站', '杨庄站', '西黄村站', '廖公庄站', '田村站', '海淀五路居站', '慈寿寺站', '花园桥站', '白石桥南站', '二里沟站', '车公庄西站', '车公庄站', '平安里站', '北海北站', '南锣鼓巷站', '东四站', '朝阳门站', '东大桥站', '呼家楼站', '金台路站', '十里堡站', '青年路站', '褡裢坡站', '黄渠站', '常营站', '草房站', '物资学院路站', '通州北关站', '通运门站', '北运河西站', '北运河东站', '郝家府站', '东夏园站', '潞城站']\n",
      "30 ['北京西站', '湾子站', '达官营站', '广安门内站', '菜市口站', '虎坊桥站', '珠市口站', '桥湾站', '磁器口站', '广渠门内站', '广渠门外站', '双井站', '九龙山站', '大郊亭站', '百子湾站', '化工站', '南楼梓庄站', '欢乐谷景区站', '垡头站', '双合站', '焦化厂站', '黄厂村站', '豆各庄站', '黑庄户站', '万盛南街西口站', '云景东路站', '小马庄站', '高楼金站', '施园站', '环球影城站']\n",
      "36 ['朱辛庄站', '育知路站', '平西府站', '回龙观东大街站', '霍营站', '育新站', '西小口站', '永泰庄站', '林萃桥站', '森林公园南门站', '奥林匹克公园站', '奥体中心站', '北土城站', '安华桥站', '安德里北街站', '鼓楼大街站', '什刹海站', '南锣鼓巷站', '中国美术馆站', '金鱼胡同站', '王府井站', '前门站', '珠市口站', '天桥站', '永定门外站', '木樨园站', '海户屯站', '大红门站', '大红门南站', '和义站', '东高地站', '火箭万源站', '五福堂站', '德茂站', '瀛海站', '瀛海南站']\n",
      "13 ['郭公庄站', '丰台科技园站', '科怡路站', '丰台南路站', '丰台东大街站', '七里庄站', '六里桥站', '六里桥东站', '北京西站', '军事博物馆站', '白堆子站', '白石桥南站', '国家图书馆站']\n",
      "46 ['巴沟站', '苏州街站', '海淀黄庄站', '知春里站', '知春路站', '西土城站', '牡丹园站', '健德门站', '北土城站', '安贞门站', '惠新西街南口站', '芍药居站', '太阳宫站', '三元桥站', '亮马桥站', '农业展览馆站', '团结湖站', '呼家楼站', '金台夕照站', '国贸站', '双井站', '劲松站', '潘家园站', '十里河站', '分钟寺站', '成寿寺站', '宋家庄站', '石榴庄站', '大红门站', '角门东站', '角门西站', '草桥站', '纪家庙站', '首经贸站', '丰台站', '泥洼站', '西局站', '六里桥站', '莲花桥站', '公主坟站', '西钓鱼台站', '慈寿寺站', '车道沟站', '长春桥站', '火器营站', '巴沟站']\n",
      "17 ['西直门站', '大钟寺站', '知春路站', '五道口站', '上地站', '清河站', '西二旗站', '龙泽站', '回龙观站', '霍营站', '立水桥站', '北苑站', '望京西站', '芍药居站', '光熙门站', '柳芳站', '东直门站']\n",
      "36 ['张郭庄站', '园博园站', '大瓦窑站', '郭庄子站', '大井站', '七里庄站', '西局站', '东管头站', '丽泽商务区站', '菜户营站', '西铁营站', '景风门站', '北京南站', '陶然桥站', '永定门外站', '景泰站', '蒲黄榆站', '方庄站', '十里河站', '北工大西门站', '平乐园站', '九龙山站', '大望路站', '红庙站', '金台路站', '朝阳公园站', '枣营站', '东风北桥站', '将台站', '高家园站', '望京南站', '阜通站', '望京站', '东湖渠站', '来广营站', '善各庄站']\n",
      "20 ['清华东路西口站', '六道口站', '北沙滩站', '奥林匹克公园站', '安立路站', '大屯路东站', '关庄站', '望京西站', '望京站', '望京东站', '崔各庄站', '马泉营站', '孙河站', '国展站', '花梨坎站', '后沙峪站', '南法信站', '石门站', '顺义站', '俸伯站']\n",
      "29 ['宛平站', '榆树庄站', '看丹站', '富丰桥站', '丰台南路站', '丰台站', '丰益桥南站', '丽泽商务区站', '红莲南里站', '达官营站', '木樨地站', '玉渊潭东门站', '甘家口站', '二里沟站', '国家图书馆站', '万寿寺站', '苏州桥站', '苏州街站', '万泉河桥站', '西苑站', '农大南路站', '马连洼站', '西北旺站', '永丰南站', '永丰站', '屯佃站', '稻香湖路站', '温阳路站', '北安河站']\n",
      "19 ['蓟门桥站', '西土城站', '学院桥站', '六道口站', '学清路站', '上清桥站', '清河站', '西二旗站', '生命科学园站', '朱辛庄站', '巩华城站', '沙河站', '沙河高教园站', '南邵站', '北邵洼站', '昌平东关站', '昌平站', '十三陵景区站', '昌平西山口站']\n",
      "1 ['起止站']\n",
      "12 ['阎村东站', '紫草坞站', '阎村站', '星城站', '大石河东站', '马各庄站', '饶乐府站', '房山城关站', '燕山站', '老城区站', '顾册站', '周口店镇站']\n",
      "4 ['东直门站', '三元桥站', '3号航站楼站', '2号航站楼站']\n"
     ]
    }
   ],
   "source": [
    "for i in a:\n",
    "    l = list(i.values())[0]\n",
    "    print(len(l), l)\n",
    "    \n",
    "# 把7号线整合完毕"
   ]
  },
  {
   "cell_type": "code",
   "execution_count": null,
   "metadata": {},
   "outputs": [],
   "source": []
  }
 ],
 "metadata": {
  "kernelspec": {
   "display_name": "Python 3",
   "language": "python",
   "name": "python3"
  },
  "language_info": {
   "codemirror_mode": {
    "name": "ipython",
    "version": 3
   },
   "file_extension": ".py",
   "mimetype": "text/x-python",
   "name": "python",
   "nbconvert_exporter": "python",
   "pygments_lexer": "ipython3",
   "version": "3.7.3"
  }
 },
 "nbformat": 4,
 "nbformat_minor": 2
}
