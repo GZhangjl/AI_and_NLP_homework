{
 "cells": [
  {
   "cell_type": "code",
   "execution_count": 1,
   "metadata": {},
   "outputs": [],
   "source": [
    "# 切割问题\n",
    "\n",
    "original_price = [1, 5, 8, 9, 10, 17, 17, 20, 24, 30, 35]"
   ]
  },
  {
   "cell_type": "code",
   "execution_count": 2,
   "metadata": {},
   "outputs": [],
   "source": [
    "from collections import defaultdict\n",
    "prices = defaultdict(int)\n",
    "for i, price in enumerate(original_price, start=1):\n",
    "    prices[i] = price"
   ]
  },
  {
   "cell_type": "code",
   "execution_count": 3,
   "metadata": {},
   "outputs": [
    {
     "data": {
      "text/plain": [
       "defaultdict(int,\n",
       "            {1: 1,\n",
       "             2: 5,\n",
       "             3: 8,\n",
       "             4: 9,\n",
       "             5: 10,\n",
       "             6: 17,\n",
       "             7: 17,\n",
       "             8: 20,\n",
       "             9: 24,\n",
       "             10: 30,\n",
       "             11: 35})"
      ]
     },
     "execution_count": 3,
     "metadata": {},
     "output_type": "execute_result"
    }
   ],
   "source": [
    "prices"
   ]
  },
  {
   "cell_type": "code",
   "execution_count": 4,
   "metadata": {},
   "outputs": [],
   "source": [
    "# 定义一个闭包，制作装饰器\n",
    "\n",
    "from functools import wraps\n",
    "from collections import defaultdict\n",
    "count = defaultdict(int)\n",
    "def func_count(f):\n",
    "    @wraps(f)\n",
    "    def exec(arg):\n",
    "        res = f(arg)\n",
    "        count[\"{0}({1})\".format(f.__name__, arg)] += 1\n",
    "        return res\n",
    "    return exec\n",
    "\n",
    "# 闭包形成一个环境"
   ]
  },
  {
   "cell_type": "code",
   "execution_count": 5,
   "metadata": {},
   "outputs": [],
   "source": [
    "# 定义一个闭包，制作装饰器\n",
    "\n",
    "from functools import wraps\n",
    "from collections import defaultdict\n",
    "\n",
    "count = defaultdict(int)\n",
    "def func_count(f):\n",
    "    @wraps(f)\n",
    "    def exec(arg):\n",
    "        res = f(arg)\n",
    "        count[\"{0}({1})\".format(f.__name__, arg)] += 1\n",
    "        return res\n",
    "    return exec\n",
    "\n",
    "def memo(f):\n",
    "    already_done = {}\n",
    "    @wraps(f)\n",
    "    def _wrap(arg):\n",
    "        if arg in already_done:\n",
    "            result = already_done[arg]\n",
    "        else:\n",
    "            result = f(arg)\n",
    "            already_done[arg] = result\n",
    "        return result\n",
    "    return _wrap\n",
    "\n",
    "# 闭包形成一个环境\n",
    "\n",
    "# 切割函数\n",
    "# r(n) = max(p, r(1)+r(n-1), r(2)+r(n-2), ...)\n",
    "\n",
    "solutions = {}\n",
    "@memo\n",
    "@func_count\n",
    "def r(n):\n",
    "    max_price, max_split = max([(prices[n], 0)]+[(r(i)+r(n-i), i) for i in range(1, n//2+1)], key=lambda x:x[0])\n",
    "    solutions[n] = (max_split, n-max_split)\n",
    "    return max_price"
   ]
  },
  {
   "cell_type": "code",
   "execution_count": 6,
   "metadata": {},
   "outputs": [
    {
     "data": {
      "text/plain": [
       "743"
      ]
     },
     "execution_count": 6,
     "metadata": {},
     "output_type": "execute_result"
    }
   ],
   "source": [
    "r(234)"
   ]
  },
  {
   "cell_type": "code",
   "execution_count": 7,
   "metadata": {},
   "outputs": [
    {
     "data": {
      "text/plain": [
       "defaultdict(int,\n",
       "            {'r(1)': 1,\n",
       "             'r(2)': 1,\n",
       "             'r(3)': 1,\n",
       "             'r(4)': 1,\n",
       "             'r(5)': 1,\n",
       "             'r(6)': 1,\n",
       "             'r(7)': 1,\n",
       "             'r(8)': 1,\n",
       "             'r(9)': 1,\n",
       "             'r(10)': 1,\n",
       "             'r(11)': 1,\n",
       "             'r(12)': 1,\n",
       "             'r(13)': 1,\n",
       "             'r(14)': 1,\n",
       "             'r(15)': 1,\n",
       "             'r(16)': 1,\n",
       "             'r(17)': 1,\n",
       "             'r(18)': 1,\n",
       "             'r(19)': 1,\n",
       "             'r(20)': 1,\n",
       "             'r(21)': 1,\n",
       "             'r(22)': 1,\n",
       "             'r(23)': 1,\n",
       "             'r(24)': 1,\n",
       "             'r(25)': 1,\n",
       "             'r(26)': 1,\n",
       "             'r(27)': 1,\n",
       "             'r(28)': 1,\n",
       "             'r(29)': 1,\n",
       "             'r(30)': 1,\n",
       "             'r(31)': 1,\n",
       "             'r(32)': 1,\n",
       "             'r(33)': 1,\n",
       "             'r(34)': 1,\n",
       "             'r(35)': 1,\n",
       "             'r(36)': 1,\n",
       "             'r(37)': 1,\n",
       "             'r(38)': 1,\n",
       "             'r(39)': 1,\n",
       "             'r(40)': 1,\n",
       "             'r(41)': 1,\n",
       "             'r(42)': 1,\n",
       "             'r(43)': 1,\n",
       "             'r(44)': 1,\n",
       "             'r(45)': 1,\n",
       "             'r(46)': 1,\n",
       "             'r(47)': 1,\n",
       "             'r(48)': 1,\n",
       "             'r(49)': 1,\n",
       "             'r(50)': 1,\n",
       "             'r(51)': 1,\n",
       "             'r(52)': 1,\n",
       "             'r(53)': 1,\n",
       "             'r(54)': 1,\n",
       "             'r(55)': 1,\n",
       "             'r(56)': 1,\n",
       "             'r(57)': 1,\n",
       "             'r(58)': 1,\n",
       "             'r(59)': 1,\n",
       "             'r(60)': 1,\n",
       "             'r(61)': 1,\n",
       "             'r(62)': 1,\n",
       "             'r(63)': 1,\n",
       "             'r(64)': 1,\n",
       "             'r(65)': 1,\n",
       "             'r(66)': 1,\n",
       "             'r(67)': 1,\n",
       "             'r(68)': 1,\n",
       "             'r(69)': 1,\n",
       "             'r(70)': 1,\n",
       "             'r(71)': 1,\n",
       "             'r(72)': 1,\n",
       "             'r(73)': 1,\n",
       "             'r(74)': 1,\n",
       "             'r(75)': 1,\n",
       "             'r(76)': 1,\n",
       "             'r(77)': 1,\n",
       "             'r(78)': 1,\n",
       "             'r(79)': 1,\n",
       "             'r(80)': 1,\n",
       "             'r(81)': 1,\n",
       "             'r(82)': 1,\n",
       "             'r(83)': 1,\n",
       "             'r(84)': 1,\n",
       "             'r(85)': 1,\n",
       "             'r(86)': 1,\n",
       "             'r(87)': 1,\n",
       "             'r(88)': 1,\n",
       "             'r(89)': 1,\n",
       "             'r(90)': 1,\n",
       "             'r(91)': 1,\n",
       "             'r(92)': 1,\n",
       "             'r(93)': 1,\n",
       "             'r(94)': 1,\n",
       "             'r(95)': 1,\n",
       "             'r(96)': 1,\n",
       "             'r(97)': 1,\n",
       "             'r(98)': 1,\n",
       "             'r(99)': 1,\n",
       "             'r(100)': 1,\n",
       "             'r(101)': 1,\n",
       "             'r(102)': 1,\n",
       "             'r(103)': 1,\n",
       "             'r(104)': 1,\n",
       "             'r(105)': 1,\n",
       "             'r(106)': 1,\n",
       "             'r(107)': 1,\n",
       "             'r(108)': 1,\n",
       "             'r(109)': 1,\n",
       "             'r(110)': 1,\n",
       "             'r(111)': 1,\n",
       "             'r(112)': 1,\n",
       "             'r(113)': 1,\n",
       "             'r(114)': 1,\n",
       "             'r(115)': 1,\n",
       "             'r(116)': 1,\n",
       "             'r(117)': 1,\n",
       "             'r(118)': 1,\n",
       "             'r(119)': 1,\n",
       "             'r(120)': 1,\n",
       "             'r(121)': 1,\n",
       "             'r(122)': 1,\n",
       "             'r(123)': 1,\n",
       "             'r(124)': 1,\n",
       "             'r(125)': 1,\n",
       "             'r(126)': 1,\n",
       "             'r(127)': 1,\n",
       "             'r(128)': 1,\n",
       "             'r(129)': 1,\n",
       "             'r(130)': 1,\n",
       "             'r(131)': 1,\n",
       "             'r(132)': 1,\n",
       "             'r(133)': 1,\n",
       "             'r(134)': 1,\n",
       "             'r(135)': 1,\n",
       "             'r(136)': 1,\n",
       "             'r(137)': 1,\n",
       "             'r(138)': 1,\n",
       "             'r(139)': 1,\n",
       "             'r(140)': 1,\n",
       "             'r(141)': 1,\n",
       "             'r(142)': 1,\n",
       "             'r(143)': 1,\n",
       "             'r(144)': 1,\n",
       "             'r(145)': 1,\n",
       "             'r(146)': 1,\n",
       "             'r(147)': 1,\n",
       "             'r(148)': 1,\n",
       "             'r(149)': 1,\n",
       "             'r(150)': 1,\n",
       "             'r(151)': 1,\n",
       "             'r(152)': 1,\n",
       "             'r(153)': 1,\n",
       "             'r(154)': 1,\n",
       "             'r(155)': 1,\n",
       "             'r(156)': 1,\n",
       "             'r(157)': 1,\n",
       "             'r(158)': 1,\n",
       "             'r(159)': 1,\n",
       "             'r(160)': 1,\n",
       "             'r(161)': 1,\n",
       "             'r(162)': 1,\n",
       "             'r(163)': 1,\n",
       "             'r(164)': 1,\n",
       "             'r(165)': 1,\n",
       "             'r(166)': 1,\n",
       "             'r(167)': 1,\n",
       "             'r(168)': 1,\n",
       "             'r(169)': 1,\n",
       "             'r(170)': 1,\n",
       "             'r(171)': 1,\n",
       "             'r(172)': 1,\n",
       "             'r(173)': 1,\n",
       "             'r(174)': 1,\n",
       "             'r(175)': 1,\n",
       "             'r(176)': 1,\n",
       "             'r(177)': 1,\n",
       "             'r(178)': 1,\n",
       "             'r(179)': 1,\n",
       "             'r(180)': 1,\n",
       "             'r(181)': 1,\n",
       "             'r(182)': 1,\n",
       "             'r(183)': 1,\n",
       "             'r(184)': 1,\n",
       "             'r(185)': 1,\n",
       "             'r(186)': 1,\n",
       "             'r(187)': 1,\n",
       "             'r(188)': 1,\n",
       "             'r(189)': 1,\n",
       "             'r(190)': 1,\n",
       "             'r(191)': 1,\n",
       "             'r(192)': 1,\n",
       "             'r(193)': 1,\n",
       "             'r(194)': 1,\n",
       "             'r(195)': 1,\n",
       "             'r(196)': 1,\n",
       "             'r(197)': 1,\n",
       "             'r(198)': 1,\n",
       "             'r(199)': 1,\n",
       "             'r(200)': 1,\n",
       "             'r(201)': 1,\n",
       "             'r(202)': 1,\n",
       "             'r(203)': 1,\n",
       "             'r(204)': 1,\n",
       "             'r(205)': 1,\n",
       "             'r(206)': 1,\n",
       "             'r(207)': 1,\n",
       "             'r(208)': 1,\n",
       "             'r(209)': 1,\n",
       "             'r(210)': 1,\n",
       "             'r(211)': 1,\n",
       "             'r(212)': 1,\n",
       "             'r(213)': 1,\n",
       "             'r(214)': 1,\n",
       "             'r(215)': 1,\n",
       "             'r(216)': 1,\n",
       "             'r(217)': 1,\n",
       "             'r(218)': 1,\n",
       "             'r(219)': 1,\n",
       "             'r(220)': 1,\n",
       "             'r(221)': 1,\n",
       "             'r(222)': 1,\n",
       "             'r(223)': 1,\n",
       "             'r(224)': 1,\n",
       "             'r(225)': 1,\n",
       "             'r(226)': 1,\n",
       "             'r(227)': 1,\n",
       "             'r(228)': 1,\n",
       "             'r(229)': 1,\n",
       "             'r(230)': 1,\n",
       "             'r(231)': 1,\n",
       "             'r(232)': 1,\n",
       "             'r(233)': 1,\n",
       "             'r(234)': 1})"
      ]
     },
     "execution_count": 7,
     "metadata": {},
     "output_type": "execute_result"
    }
   ],
   "source": [
    "count"
   ]
  },
  {
   "cell_type": "code",
   "execution_count": 8,
   "metadata": {},
   "outputs": [
    {
     "data": {
      "text/plain": [
       "{1: (0, 1),\n",
       " 2: (0, 2),\n",
       " 3: (0, 3),\n",
       " 4: (2, 2),\n",
       " 5: (2, 3),\n",
       " 6: (0, 6),\n",
       " 7: (1, 6),\n",
       " 8: (2, 6),\n",
       " 9: (3, 6),\n",
       " 10: (0, 10),\n",
       " 11: (0, 11),\n",
       " 12: (1, 11),\n",
       " 13: (2, 11),\n",
       " 14: (3, 11),\n",
       " 15: (2, 13),\n",
       " 16: (2, 14),\n",
       " 17: (6, 11),\n",
       " 18: (1, 17),\n",
       " 19: (2, 17),\n",
       " 20: (3, 17),\n",
       " 21: (10, 11),\n",
       " 22: (11, 11),\n",
       " 23: (1, 22),\n",
       " 24: (2, 22),\n",
       " 25: (3, 22),\n",
       " 26: (2, 24),\n",
       " 27: (2, 25),\n",
       " 28: (6, 22),\n",
       " 29: (1, 28),\n",
       " 30: (2, 28),\n",
       " 31: (3, 28),\n",
       " 32: (10, 22),\n",
       " 33: (11, 22),\n",
       " 34: (1, 33),\n",
       " 35: (2, 33),\n",
       " 36: (3, 33),\n",
       " 37: (2, 35),\n",
       " 38: (2, 36),\n",
       " 39: (6, 33),\n",
       " 40: (1, 39),\n",
       " 41: (2, 39),\n",
       " 42: (3, 39),\n",
       " 43: (10, 33),\n",
       " 44: (11, 33),\n",
       " 45: (1, 44),\n",
       " 46: (2, 44),\n",
       " 47: (3, 44),\n",
       " 48: (2, 46),\n",
       " 49: (2, 47),\n",
       " 50: (6, 44),\n",
       " 51: (1, 50),\n",
       " 52: (2, 50),\n",
       " 53: (3, 50),\n",
       " 54: (10, 44),\n",
       " 55: (11, 44),\n",
       " 56: (1, 55),\n",
       " 57: (2, 55),\n",
       " 58: (3, 55),\n",
       " 59: (2, 57),\n",
       " 60: (2, 58),\n",
       " 61: (6, 55),\n",
       " 62: (1, 61),\n",
       " 63: (2, 61),\n",
       " 64: (3, 61),\n",
       " 65: (10, 55),\n",
       " 66: (11, 55),\n",
       " 67: (1, 66),\n",
       " 68: (2, 66),\n",
       " 69: (3, 66),\n",
       " 70: (2, 68),\n",
       " 71: (2, 69),\n",
       " 72: (6, 66),\n",
       " 73: (1, 72),\n",
       " 74: (2, 72),\n",
       " 75: (3, 72),\n",
       " 76: (10, 66),\n",
       " 77: (11, 66),\n",
       " 78: (1, 77),\n",
       " 79: (2, 77),\n",
       " 80: (3, 77),\n",
       " 81: (2, 79),\n",
       " 82: (2, 80),\n",
       " 83: (6, 77),\n",
       " 84: (1, 83),\n",
       " 85: (2, 83),\n",
       " 86: (3, 83),\n",
       " 87: (10, 77),\n",
       " 88: (11, 77),\n",
       " 89: (1, 88),\n",
       " 90: (2, 88),\n",
       " 91: (3, 88),\n",
       " 92: (2, 90),\n",
       " 93: (2, 91),\n",
       " 94: (6, 88),\n",
       " 95: (1, 94),\n",
       " 96: (2, 94),\n",
       " 97: (3, 94),\n",
       " 98: (10, 88),\n",
       " 99: (11, 88),\n",
       " 100: (1, 99),\n",
       " 101: (2, 99),\n",
       " 102: (3, 99),\n",
       " 103: (2, 101),\n",
       " 104: (2, 102),\n",
       " 105: (6, 99),\n",
       " 106: (1, 105),\n",
       " 107: (2, 105),\n",
       " 108: (3, 105),\n",
       " 109: (10, 99),\n",
       " 110: (11, 99),\n",
       " 111: (1, 110),\n",
       " 112: (2, 110),\n",
       " 113: (3, 110),\n",
       " 114: (2, 112),\n",
       " 115: (2, 113),\n",
       " 116: (6, 110),\n",
       " 117: (1, 116),\n",
       " 118: (2, 116),\n",
       " 119: (3, 116),\n",
       " 120: (10, 110),\n",
       " 121: (11, 110),\n",
       " 122: (1, 121),\n",
       " 123: (2, 121),\n",
       " 124: (3, 121),\n",
       " 125: (2, 123),\n",
       " 126: (2, 124),\n",
       " 127: (6, 121),\n",
       " 128: (1, 127),\n",
       " 129: (2, 127),\n",
       " 130: (3, 127),\n",
       " 131: (10, 121),\n",
       " 132: (11, 121),\n",
       " 133: (1, 132),\n",
       " 134: (2, 132),\n",
       " 135: (3, 132),\n",
       " 136: (2, 134),\n",
       " 137: (2, 135),\n",
       " 138: (6, 132),\n",
       " 139: (1, 138),\n",
       " 140: (2, 138),\n",
       " 141: (3, 138),\n",
       " 142: (10, 132),\n",
       " 143: (11, 132),\n",
       " 144: (1, 143),\n",
       " 145: (2, 143),\n",
       " 146: (3, 143),\n",
       " 147: (2, 145),\n",
       " 148: (2, 146),\n",
       " 149: (6, 143),\n",
       " 150: (1, 149),\n",
       " 151: (2, 149),\n",
       " 152: (3, 149),\n",
       " 153: (10, 143),\n",
       " 154: (11, 143),\n",
       " 155: (1, 154),\n",
       " 156: (2, 154),\n",
       " 157: (3, 154),\n",
       " 158: (2, 156),\n",
       " 159: (2, 157),\n",
       " 160: (6, 154),\n",
       " 161: (1, 160),\n",
       " 162: (2, 160),\n",
       " 163: (3, 160),\n",
       " 164: (10, 154),\n",
       " 165: (11, 154),\n",
       " 166: (1, 165),\n",
       " 167: (2, 165),\n",
       " 168: (3, 165),\n",
       " 169: (2, 167),\n",
       " 170: (2, 168),\n",
       " 171: (6, 165),\n",
       " 172: (1, 171),\n",
       " 173: (2, 171),\n",
       " 174: (3, 171),\n",
       " 175: (10, 165),\n",
       " 176: (11, 165),\n",
       " 177: (1, 176),\n",
       " 178: (2, 176),\n",
       " 179: (3, 176),\n",
       " 180: (2, 178),\n",
       " 181: (2, 179),\n",
       " 182: (6, 176),\n",
       " 183: (1, 182),\n",
       " 184: (2, 182),\n",
       " 185: (3, 182),\n",
       " 186: (10, 176),\n",
       " 187: (11, 176),\n",
       " 188: (1, 187),\n",
       " 189: (2, 187),\n",
       " 190: (3, 187),\n",
       " 191: (2, 189),\n",
       " 192: (2, 190),\n",
       " 193: (6, 187),\n",
       " 194: (1, 193),\n",
       " 195: (2, 193),\n",
       " 196: (3, 193),\n",
       " 197: (10, 187),\n",
       " 198: (11, 187),\n",
       " 199: (1, 198),\n",
       " 200: (2, 198),\n",
       " 201: (3, 198),\n",
       " 202: (2, 200),\n",
       " 203: (2, 201),\n",
       " 204: (6, 198),\n",
       " 205: (1, 204),\n",
       " 206: (2, 204),\n",
       " 207: (3, 204),\n",
       " 208: (10, 198),\n",
       " 209: (11, 198),\n",
       " 210: (1, 209),\n",
       " 211: (2, 209),\n",
       " 212: (3, 209),\n",
       " 213: (2, 211),\n",
       " 214: (2, 212),\n",
       " 215: (6, 209),\n",
       " 216: (1, 215),\n",
       " 217: (2, 215),\n",
       " 218: (3, 215),\n",
       " 219: (10, 209),\n",
       " 220: (11, 209),\n",
       " 221: (1, 220),\n",
       " 222: (2, 220),\n",
       " 223: (3, 220),\n",
       " 224: (2, 222),\n",
       " 225: (2, 223),\n",
       " 226: (6, 220),\n",
       " 227: (1, 226),\n",
       " 228: (2, 226),\n",
       " 229: (3, 226),\n",
       " 230: (10, 220),\n",
       " 231: (11, 220),\n",
       " 232: (1, 231),\n",
       " 233: (2, 231),\n",
       " 234: (3, 231)}"
      ]
     },
     "execution_count": 8,
     "metadata": {},
     "output_type": "execute_result"
    }
   ],
   "source": [
    "solutions"
   ]
  },
  {
   "cell_type": "code",
   "execution_count": 9,
   "metadata": {},
   "outputs": [],
   "source": [
    "def parse_solution(n):\n",
    "    left_split, right_split = solutions[n]\n",
    "    \n",
    "    if left_split == 0: return [right_split]\n",
    "    \n",
    "    return parse_solution(left_split) + parse_solution(right_split)"
   ]
  },
  {
   "cell_type": "code",
   "execution_count": 10,
   "metadata": {},
   "outputs": [
    {
     "data": {
      "text/plain": [
       "[3,\n",
       " 11,\n",
       " 11,\n",
       " 11,\n",
       " 11,\n",
       " 11,\n",
       " 11,\n",
       " 11,\n",
       " 11,\n",
       " 11,\n",
       " 11,\n",
       " 11,\n",
       " 11,\n",
       " 11,\n",
       " 11,\n",
       " 11,\n",
       " 11,\n",
       " 11,\n",
       " 11,\n",
       " 11,\n",
       " 11,\n",
       " 11]"
      ]
     },
     "execution_count": 10,
     "metadata": {},
     "output_type": "execute_result"
    }
   ],
   "source": [
    "parse_solution(234)"
   ]
  },
  {
   "cell_type": "markdown",
   "metadata": {},
   "source": [
    "## Dynamic Programming\n",
    "\n",
    "不断查表的意思\n",
    "+ 分析子问题的重复性\n",
    "+ 子问题进行存储\n",
    "+ Solution 要进行解析"
   ]
  },
  {
   "cell_type": "markdown",
   "metadata": {},
   "source": [
    "## Edit Distance"
   ]
  },
  {
   "cell_type": "code",
   "execution_count": 11,
   "metadata": {},
   "outputs": [],
   "source": [
    "# 计算编辑距离有4个不同的子问题，分别是add, del, sub以及不变，所有比较都发生在两个子字符串的最后一个字母\n",
    "\n",
    "solutions = {}\n",
    "def edit_distance(s1, s2):\n",
    "    if len(s1) == 0:\n",
    "        return len(s2)\n",
    "    if len(s2) == 0:\n",
    "        return len(s1)\n",
    "    \n",
    "    tail_s1 = s1[-1]\n",
    "    tail_s2 = s2[-1]\n",
    "    \n",
    "    # add, del的操作，在计算编辑距离时，无需判断末尾字母是否相同\n",
    "    candidates = [(edit_distance(s1[:-1], s2)+1, \"DEL: {0}\".format(tail_s1)), # 删除s1末尾字母后再进行比较\n",
    "                  (edit_distance(s1, s2[:-1])+1, \"ADD: {0}\".format(tail_s2))  # 比较之后在s1末尾加上s2末尾字母 \n",
    "                 ]\n",
    "    \n",
    "    # 不做增删，只做调整\n",
    "    if tail_s1 == tail_s2:\n",
    "        candidates.append((edit_distance(s1[:-1], s2[:-1]), ''))\n",
    "    else:\n",
    "        candidates.append((edit_distance(s1[:-1], s2[:-1])+1, \"SUB: {0}->{1}\".format(tail_s1, tail_s2)))\n",
    "        \n",
    "    min_edit_distance, operation = min(candidates, key=lambda x:x[0])\n",
    "    \n",
    "    solutions[(s1, s2)] = operation\n",
    "    \n",
    "    return min_edit_distance"
   ]
  },
  {
   "cell_type": "code",
   "execution_count": 12,
   "metadata": {},
   "outputs": [
    {
     "data": {
      "text/plain": [
       "1"
      ]
     },
     "execution_count": 12,
     "metadata": {},
     "output_type": "execute_result"
    }
   ],
   "source": [
    "edit_distance('ATCGGAA', 'ATCGGGA')"
   ]
  },
  {
   "cell_type": "code",
   "execution_count": 13,
   "metadata": {},
   "outputs": [
    {
     "data": {
      "text/plain": [
       "{('A', 'A'): '',\n",
       " ('A', 'AT'): 'ADD: T',\n",
       " ('A', 'ATC'): 'ADD: C',\n",
       " ('A', 'ATCG'): 'ADD: G',\n",
       " ('A', 'ATCGG'): 'ADD: G',\n",
       " ('A', 'ATCGGG'): 'ADD: G',\n",
       " ('A', 'ATCGGGA'): 'ADD: A',\n",
       " ('AT', 'A'): 'DEL: T',\n",
       " ('AT', 'AT'): '',\n",
       " ('AT', 'ATC'): 'ADD: C',\n",
       " ('AT', 'ATCG'): 'ADD: G',\n",
       " ('AT', 'ATCGG'): 'ADD: G',\n",
       " ('AT', 'ATCGGG'): 'ADD: G',\n",
       " ('AT', 'ATCGGGA'): 'ADD: A',\n",
       " ('ATC', 'A'): 'DEL: C',\n",
       " ('ATC', 'AT'): 'DEL: C',\n",
       " ('ATC', 'ATC'): '',\n",
       " ('ATC', 'ATCG'): 'ADD: G',\n",
       " ('ATC', 'ATCGG'): 'ADD: G',\n",
       " ('ATC', 'ATCGGG'): 'ADD: G',\n",
       " ('ATC', 'ATCGGGA'): 'ADD: A',\n",
       " ('ATCG', 'A'): 'DEL: G',\n",
       " ('ATCG', 'AT'): 'DEL: G',\n",
       " ('ATCG', 'ATC'): 'DEL: G',\n",
       " ('ATCG', 'ATCG'): '',\n",
       " ('ATCG', 'ATCGG'): 'ADD: G',\n",
       " ('ATCG', 'ATCGGG'): 'ADD: G',\n",
       " ('ATCG', 'ATCGGGA'): 'ADD: A',\n",
       " ('ATCGG', 'A'): 'DEL: G',\n",
       " ('ATCGG', 'AT'): 'DEL: G',\n",
       " ('ATCGG', 'ATC'): 'DEL: G',\n",
       " ('ATCGG', 'ATCG'): 'DEL: G',\n",
       " ('ATCGG', 'ATCGG'): '',\n",
       " ('ATCGG', 'ATCGGG'): 'ADD: G',\n",
       " ('ATCGG', 'ATCGGGA'): 'ADD: A',\n",
       " ('ATCGGA', 'A'): 'DEL: A',\n",
       " ('ATCGGA', 'AT'): 'DEL: A',\n",
       " ('ATCGGA', 'ATC'): 'DEL: A',\n",
       " ('ATCGGA', 'ATCG'): 'DEL: A',\n",
       " ('ATCGGA', 'ATCGG'): 'DEL: A',\n",
       " ('ATCGGA', 'ATCGGG'): 'SUB: A->G',\n",
       " ('ATCGGA', 'ATCGGGA'): '',\n",
       " ('ATCGGAA', 'A'): 'DEL: A',\n",
       " ('ATCGGAA', 'AT'): 'DEL: A',\n",
       " ('ATCGGAA', 'ATC'): 'DEL: A',\n",
       " ('ATCGGAA', 'ATCG'): 'DEL: A',\n",
       " ('ATCGGAA', 'ATCGG'): 'DEL: A',\n",
       " ('ATCGGAA', 'ATCGGG'): 'DEL: A',\n",
       " ('ATCGGAA', 'ATCGGGA'): ''}"
      ]
     },
     "execution_count": 13,
     "metadata": {},
     "output_type": "execute_result"
    }
   ],
   "source": [
    "solutions"
   ]
  },
  {
   "cell_type": "markdown",
   "metadata": {},
   "source": [
    "### (Optinal) Finish the k-person-salesman problem:"
   ]
  },
  {
   "cell_type": "code",
   "execution_count": 14,
   "metadata": {},
   "outputs": [
    {
     "data": {
      "text/plain": [
       "<matplotlib.collections.PathCollection at 0x154dc4f0dd8>"
      ]
     },
     "execution_count": 14,
     "metadata": {},
     "output_type": "execute_result"
    },
    {
     "data": {
      "image/png": "[encoded data removed]",
      "text/plain": [
       "<Figure size 432x288 with 1 Axes>"
      ]
     },
     "metadata": {
      "needs_background": "light"
     },
     "output_type": "display_data"
    }
   ],
   "source": [
    "%matplotlib inline\n",
    "\n",
    "import random\n",
    "import matplotlib.pylab as plt\n",
    "\n",
    "latitudes = [random.randint(-100, 100) for _ in range(20)]\n",
    "longitude = [random.randint(-100, 100) for _ in range(20)]\n",
    "plt.scatter(latitudes, longitude)"
   ]
  },
  {
   "cell_type": "code",
   "execution_count": 15,
   "metadata": {},
   "outputs": [],
   "source": [
    "points = [(la, lo) for la, lo in zip(latitudes, longitude)]"
   ]
  },
  {
   "cell_type": "code",
   "execution_count": 16,
   "metadata": {},
   "outputs": [
    {
     "data": {
      "text/plain": [
       "[(-7, 33),\n",
       " (-85, 24),\n",
       " (16, -69),\n",
       " (-11, -17),\n",
       " (58, -89),\n",
       " (5, -89),\n",
       " (-2, 80),\n",
       " (-16, 57),\n",
       " (-95, -85),\n",
       " (50, -83),\n",
       " (-46, -31),\n",
       " (64, -55),\n",
       " (-55, 28),\n",
       " (2, -61),\n",
       " (96, 69),\n",
       " (40, 42),\n",
       " (81, 77),\n",
       " (-29, 86),\n",
       " (-6, -66),\n",
       " (77, 62)]"
      ]
     },
     "execution_count": 16,
     "metadata": {},
     "output_type": "execute_result"
    }
   ],
   "source": [
    "points"
   ]
  },
  {
   "cell_type": "code",
   "execution_count": 17,
   "metadata": {},
   "outputs": [
    {
     "data": {
      "text/plain": [
       "(-16, 57)"
      ]
     },
     "execution_count": 17,
     "metadata": {},
     "output_type": "execute_result"
    }
   ],
   "source": [
    "from random import choice\n",
    "start_point = choice(points)\n",
    "start_point"
   ]
  },
  {
   "cell_type": "code",
   "execution_count": 18,
   "metadata": {},
   "outputs": [
    {
     "data": {
      "text/plain": [
       "<matplotlib.collections.PathCollection at 0x154dc555dd8>"
      ]
     },
     "execution_count": 18,
     "metadata": {},
     "output_type": "execute_result"
    },
    {
     "data": {
      "image/png": "[encoded data removed]",
      "text/plain": [
       "<Figure size 432x288 with 1 Axes>"
      ]
     },
     "metadata": {
      "needs_background": "light"
     },
     "output_type": "display_data"
    }
   ],
   "source": [
    "plt.scatter(latitudes, longitude)\n",
    "plt.scatter(*start_point, c='r')"
   ]
  },
  {
   "cell_type": "code",
   "execution_count": 19,
   "metadata": {},
   "outputs": [],
   "source": [
    "import math\n",
    "from collections import defaultdict\n",
    "\n",
    "distance = {}\n",
    "dis_list = [] # 注意！！列表是引用类型\n",
    "for p0 in points:\n",
    "    for p1 in points:\n",
    "        if p0 == p1:\n",
    "            continue\n",
    "        d = math.sqrt((p0[0]-p1[0])**2 + (p0[1]-p1[1])**2)\n",
    "        dis_list += [(p1, d)]\n",
    "    distance[p0] = sorted(dis_list, key=lambda x:x[1]) # 这样排序应该不是最优解\n",
    "    dis_list = []"
   ]
  },
  {
   "cell_type": "code",
   "execution_count": 20,
   "metadata": {},
   "outputs": [
    {
     "data": {
      "text/plain": [
       "(-16, 57)"
      ]
     },
     "execution_count": 20,
     "metadata": {},
     "output_type": "execute_result"
    }
   ],
   "source": [
    "start_point"
   ]
  },
  {
   "cell_type": "code",
   "execution_count": 21,
   "metadata": {},
   "outputs": [],
   "source": [
    "visited = []\n",
    "def go_line(start_point, distance):\n",
    "    visited.append(start_point)\n",
    "    i = 0\n",
    "    end_list = distance[start_point]\n",
    "    while (i < len(end_list)):\n",
    "        end_point, _ = end_list[i]\n",
    "        if end_point in visited:\n",
    "            i += 1\n",
    "            continue\n",
    "        else:\n",
    "            start_point = end_point\n",
    "            go_line(start_point, distance)\n",
    "            break\n",
    "#     for end_point, _ in distance[start_point]:\n",
    "#         if end_point in visited:\n",
    "#             continue\n",
    "#         else:\n",
    "#             plt.scatter(*zip(start_point, end_point), c='b')\n",
    "#             plt.plot(*zip(start_point, end_point), c='r')\n",
    "#             start_point = end_point\n",
    "#             draw_line(start_point, distance)\n",
    "#     i = 0\n",
    "#     while (True):\n",
    "#         end_point, _ = distance[start_point][i]\n",
    "#         if end_point in visited:\n",
    "#             i += 1\n",
    "#             continue\n",
    "#         else:\n",
    "#             plt.plot(start_point, end_point, c='r')"
   ]
  },
  {
   "cell_type": "code",
   "execution_count": 22,
   "metadata": {},
   "outputs": [],
   "source": [
    "go_line(start_point, distance)"
   ]
  },
  {
   "cell_type": "code",
   "execution_count": 23,
   "metadata": {},
   "outputs": [],
   "source": [
    "visited += [visited[0]]"
   ]
  },
  {
   "cell_type": "code",
   "execution_count": 24,
   "metadata": {},
   "outputs": [
    {
     "data": {
      "image/png": "[encoded data removed]",
      "text/plain": [
       "<Figure size 432x288 with 1 Axes>"
      ]
     },
     "metadata": {
      "needs_background": "light"
     },
     "output_type": "display_data"
    }
   ],
   "source": [
    "plt.plot(*zip(*visited), c='r')\n",
    "plt.scatter(*zip(*visited), c='b')\n",
    "plt.scatter(*start_point, c='r')\n",
    "for i in range(len(visited)-1):\n",
    "    x = visited[i][0]\n",
    "    y = visited[i][1]\n",
    "    u = visited[i+1][0]-visited[i][0]\n",
    "    v = visited[i+1][1]-visited[i][1]\n",
    "    plt.quiver(x, y, u, v)"
   ]
  }
 ],
 "metadata": {
  "kernelspec": {
   "display_name": "Python 3",
   "language": "python",
   "name": "python3"
  },
  "language_info": {
   "codemirror_mode": {
    "name": "ipython",
    "version": 3
   },
   "file_extension": ".py",
   "mimetype": "text/x-python",
   "name": "python",
   "nbconvert_exporter": "python",
   "pygments_lexer": "ipython3",
   "version": "3.7.3"
  }
 },
 "nbformat": 4,
 "nbformat_minor": 2
}
